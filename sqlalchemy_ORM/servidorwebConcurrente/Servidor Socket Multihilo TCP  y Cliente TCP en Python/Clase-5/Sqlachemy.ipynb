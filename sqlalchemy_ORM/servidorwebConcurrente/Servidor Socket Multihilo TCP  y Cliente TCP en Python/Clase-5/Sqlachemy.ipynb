{
 "cells": [
  {
   "cell_type": "markdown",
   "metadata": {},
   "source": [
    "<div style=\"display:flex;flex-direction:row;justify-content: space-evenly;\">\n",
    "<img src=\"tec.png\" style=\"width:320px;height:197px;\"/>\n",
    "<img src=\"itcolima.svg\" style=\"width:197px\"/>\n",
    "</div>\n",
    "<div style=\"display:flex;flex-direction:column;gap:20px;text-align:center\"></div>\n",
    "\n",
    "<h1 align=\"center\">Tecnológico Nacional de México\n",
    "campus Colima</h1>\n",
    "<h2 align=\"center\">Maestría en Sistemas\n",
    "Computacionales</h2><br></br>\n",
    "<h3 align=\"center\">Servidor Socket Multihilo TCP  y Cliente TCP en Python</h3>\n",
    "<h3 align=\"center\">Ejercicio Práctico:Servidor Socket Multihilo TCP</h3><br></br>\n",
    "<h4 align=\"center\">Docente:</h4>\n",
    "<h4 align=\"center\">D. en C. Patricia Figueroa Millan </h4><br></br>\n",
    "<h4 align=\"center\">Autor:</h4>\n",
    "<h4 align=\"center\">Ing. Gilberto Rene Martinez Gutierrez G2146013</h4><br></br>\n",
    "<h4 align=\"center\"></h4>\n",
    "<h4 align=\"center\">Villa de Álvarez, Colima, México</h4>\n",
    "<h4 align=\"center\">05 de noviembre de 2022</h4>"
   ]
  },
  {
   "cell_type": "code",
   "execution_count": 62,
   "metadata": {},
   "outputs": [],
   "source": [
    "import sqlalchemy\n",
    "from sqlalchemy import create_engine\n",
    "#Conectarse a la base de datos\n",
    "engine=create_engine('sqlite:///orm_example.db',echo=True)"
   ]
  },
  {
   "cell_type": "code",
   "execution_count": 63,
   "metadata": {},
   "outputs": [],
   "source": [
    "# Creacion de la clase o modelo\n",
    "from sqlalchemy.ext.declarative import declarative_base\n",
    "Base=declarative_base()"
   ]
  },
  {
   "cell_type": "code",
   "execution_count": 64,
   "metadata": {},
   "outputs": [],
   "source": [
    "from sqlalchemy import Column, Integer, String\n",
    "class User(Base):\n",
    "    __tablename__='users'\n",
    "    id=Column(Integer, primary_key=True)\n",
    "    name=Column(String)\n",
    "    fullname=Column(String)\n",
    "    password=Column(String)\n",
    "\n",
    "    # Define la representacion de string con to_string() suele ser opcional pero te permite imprimir el objeto\n",
    "    def __repr__(self):\n",
    "        return \"<User(name='%s', fullname='%s', password='%s')>\" % (self.name, self.fullname, self.password)"
   ]
  },
  {
   "cell_type": "code",
   "execution_count": 65,
   "metadata": {},
   "outputs": [
    {
     "name": "stdout",
     "output_type": "stream",
     "text": [
      "2022-12-13 15:17:54,985 INFO sqlalchemy.engine.Engine BEGIN (implicit)\n",
      "2022-12-13 15:17:54,986 INFO sqlalchemy.engine.Engine PRAGMA main.table_info(\"users\")\n",
      "2022-12-13 15:17:54,987 INFO sqlalchemy.engine.Engine [raw sql] ()\n",
      "2022-12-13 15:17:54,989 INFO sqlalchemy.engine.Engine COMMIT\n"
     ]
    }
   ],
   "source": [
    "# Creacion de la tabla\n",
    "Base.metadata.create_all(engine)"
   ]
  },
  {
   "cell_type": "code",
   "execution_count": 66,
   "metadata": {},
   "outputs": [],
   "source": [
    "# Crear una sesion\n",
    "from sqlalchemy.orm import sessionmaker\n",
    "Session=sessionmaker(bind=engine)\n",
    "session=Session()\n"
   ]
  },
  {
   "cell_type": "code",
   "execution_count": 67,
   "metadata": {},
   "outputs": [
    {
     "name": "stdout",
     "output_type": "stream",
     "text": [
      "None\n"
     ]
    }
   ],
   "source": [
    "gilberto=User(name='Gilberto', fullname='Gilberto_Martinez ', password='TeAmoPrimiGod')\n",
    "session.add(gilberto)\n",
    "print(gilberto.id)"
   ]
  },
  {
   "cell_type": "code",
   "execution_count": 68,
   "metadata": {},
   "outputs": [
    {
     "name": "stdout",
     "output_type": "stream",
     "text": [
      "2022-12-13 15:17:55,118 INFO sqlalchemy.engine.Engine BEGIN (implicit)\n",
      "2022-12-13 15:17:55,120 INFO sqlalchemy.engine.Engine INSERT INTO users (name, fullname, password) VALUES (?, ?, ?)\n",
      "2022-12-13 15:17:55,122 INFO sqlalchemy.engine.Engine [generated in 0.00139s] ('Gilberto', 'Gilberto_Martinez ', 'TeAmoPrimiGod')\n",
      "2022-12-13 15:17:55,125 INFO sqlalchemy.engine.Engine SELECT users.id AS users_id, users.name AS users_name, users.fullname AS users_fullname, users.password AS users_password \n",
      "FROM users \n",
      "WHERE users.name = ?\n",
      " LIMIT ? OFFSET ?\n",
      "2022-12-13 15:17:55,126 INFO sqlalchemy.engine.Engine [generated in 0.00073s] ('gilberto', 1, 0)\n"
     ]
    }
   ],
   "source": [
    "user=session.query(User).filter_by(name='gilberto').first()"
   ]
  },
  {
   "cell_type": "code",
   "execution_count": 69,
   "metadata": {},
   "outputs": [
    {
     "name": "stdout",
     "output_type": "stream",
     "text": [
      "2022-12-13 15:17:55,179 INFO sqlalchemy.engine.Engine UPDATE users SET password=? WHERE users.id = ?\n",
      "2022-12-13 15:17:55,179 INFO sqlalchemy.engine.Engine [generated in 0.00094s] ('1234', 5)\n",
      "2022-12-13 15:17:55,181 INFO sqlalchemy.engine.Engine INSERT INTO users (name, fullname, password) VALUES (?, ?, ?)\n",
      "2022-12-13 15:17:55,181 INFO sqlalchemy.engine.Engine [cached since 0.0611s ago] ('wendy', 'Wendy Williams', 'foobar')\n",
      "2022-12-13 15:17:55,182 INFO sqlalchemy.engine.Engine INSERT INTO users (name, fullname, password) VALUES (?, ?, ?)\n",
      "2022-12-13 15:17:55,182 INFO sqlalchemy.engine.Engine [cached since 0.06211s ago] ('mary', 'Mary Contrary', 'xxg527')\n",
      "2022-12-13 15:17:55,183 INFO sqlalchemy.engine.Engine INSERT INTO users (name, fullname, password) VALUES (?, ?, ?)\n",
      "2022-12-13 15:17:55,183 INFO sqlalchemy.engine.Engine [cached since 0.06353s ago] ('fred', 'Fred Flinstone', 'blah')\n",
      "2022-12-13 15:17:55,184 INFO sqlalchemy.engine.Engine COMMIT\n"
     ]
    }
   ],
   "source": [
    "session.add_all([\n",
    "    User(name='wendy', fullname='Wendy Williams', password='foobar'),\n",
    "    User(name='mary', fullname='Mary Contrary', password='xxg527'),\n",
    "    User(name='fred', fullname='Fred Flinstone', password='blah')])\n",
    "gilberto.password='1234'\n",
    "session.commit()"
   ]
  },
  {
   "cell_type": "code",
   "execution_count": 70,
   "metadata": {},
   "outputs": [
    {
     "name": "stdout",
     "output_type": "stream",
     "text": [
      "2022-12-13 15:17:55,230 INFO sqlalchemy.engine.Engine BEGIN (implicit)\n",
      "2022-12-13 15:17:55,233 INFO sqlalchemy.engine.Engine SELECT users.id AS users_id, users.fullname AS users_fullname, users.password AS users_password \n",
      "FROM users \n",
      "WHERE users.id = ?\n",
      "2022-12-13 15:17:55,234 INFO sqlalchemy.engine.Engine [generated in 0.00104s] (5,)\n",
      "2022-12-13 15:17:55,236 INFO sqlalchemy.engine.Engine UPDATE users SET name=? WHERE users.id = ?\n",
      "2022-12-13 15:17:55,237 INFO sqlalchemy.engine.Engine [generated in 0.00087s] ('Gilberto_Gutierrez', 5)\n",
      "2022-12-13 15:17:55,240 INFO sqlalchemy.engine.Engine INSERT INTO users (name, fullname, password) VALUES (?, ?, ?)\n",
      "2022-12-13 15:17:55,241 INFO sqlalchemy.engine.Engine [cached since 0.1206s ago] ('fakeuser', 'Invalid', '12345')\n",
      "2022-12-13 15:17:55,243 INFO sqlalchemy.engine.Engine SELECT users.id AS users_id, users.name AS users_name, users.fullname AS users_fullname, users.password AS users_password \n",
      "FROM users \n",
      "WHERE users.name IN (?, ?)\n",
      "2022-12-13 15:17:55,243 INFO sqlalchemy.engine.Engine [generated in 0.00065s] ('Gilberto_Gutierrez', 'fakeuser')\n"
     ]
    },
    {
     "data": {
      "text/plain": [
       "[<User(name='Gilberto_Gutierrez', fullname='Gilberto_Martinez ', password='1234')>,\n",
       " <User(name='fakeuser', fullname='Invalid', password='12345')>]"
      ]
     },
     "execution_count": 70,
     "metadata": {},
     "output_type": "execute_result"
    }
   ],
   "source": [
    "# Retroceder transacciones\n",
    "\n",
    "gilberto.name='Gilberto_Gutierrez'\n",
    "fake_user=User(name='fakeuser', fullname='Invalid', password='12345')\n",
    "session.add(fake_user)\n",
    "session.query(User).filter(User.name.in_(['Gilberto_Gutierrez','fakeuser'])).all()"
   ]
  },
  {
   "cell_type": "code",
   "execution_count": 71,
   "metadata": {},
   "outputs": [
    {
     "name": "stdout",
     "output_type": "stream",
     "text": [
      "2022-12-13 15:17:55,273 INFO sqlalchemy.engine.Engine ROLLBACK\n"
     ]
    }
   ],
   "source": [
    "# desacer la transaccion\n",
    "session.rollback()"
   ]
  },
  {
   "cell_type": "code",
   "execution_count": 72,
   "metadata": {},
   "outputs": [
    {
     "name": "stdout",
     "output_type": "stream",
     "text": [
      "2022-12-13 15:17:55,307 INFO sqlalchemy.engine.Engine BEGIN (implicit)\n",
      "2022-12-13 15:17:55,309 INFO sqlalchemy.engine.Engine SELECT users.id AS users_id, users.name AS users_name, users.fullname AS users_fullname, users.password AS users_password \n",
      "FROM users \n",
      "WHERE users.id = ?\n",
      "2022-12-13 15:17:55,309 INFO sqlalchemy.engine.Engine [generated in 0.00061s] (5,)\n"
     ]
    },
    {
     "data": {
      "text/plain": [
       "'Gilberto'"
      ]
     },
     "execution_count": 72,
     "metadata": {},
     "output_type": "execute_result"
    }
   ],
   "source": [
    "gilberto.name"
   ]
  },
  {
   "cell_type": "code",
   "execution_count": 73,
   "metadata": {},
   "outputs": [
    {
     "name": "stdout",
     "output_type": "stream",
     "text": [
      "2022-12-13 15:17:55,418 INFO sqlalchemy.engine.Engine SELECT users.id AS users_id, users.name AS users_name, users.fullname AS users_fullname, users.password AS users_password \n",
      "FROM users ORDER BY users.id\n",
      "2022-12-13 15:17:55,419 INFO sqlalchemy.engine.Engine [generated in 0.00154s] ()\n",
      "<User(name='Gilberto', fullname='Gilberto_Martinez ', password='1234')>\n",
      "<User(name='wendy', fullname='Wendy Williams', password='foobar')>\n",
      "<User(name='mary', fullname='Mary Contrary', password='xxg527')>\n",
      "<User(name='fred', fullname='Fred Flinstone', password='blah')>\n",
      "<User(name='Gilberto', fullname='Gilberto_Martinez ', password='1234')>\n",
      "<User(name='wendy', fullname='Wendy Williams', password='foobar')>\n",
      "<User(name='mary', fullname='Mary Contrary', password='xxg527')>\n",
      "<User(name='fred', fullname='Fred Flinstone', password='blah')>\n"
     ]
    }
   ],
   "source": [
    "# Querying\n",
    "\n",
    "for instance in session.query(User).order_by(User.id):\n",
    "    print(instance)\n",
    "\n"
   ]
  },
  {
   "cell_type": "code",
   "execution_count": 74,
   "metadata": {},
   "outputs": [
    {
     "name": "stdout",
     "output_type": "stream",
     "text": [
      "2022-12-13 15:17:55,462 INFO sqlalchemy.engine.Engine SELECT users.name AS users_name, users.fullname AS users_fullname \n",
      "FROM users\n",
      "2022-12-13 15:17:55,463 INFO sqlalchemy.engine.Engine [generated in 0.00089s] ()\n",
      "Este es el nombre->  Gilberto     Este es el nombre completo -> Gilberto_Martinez \n",
      "Este es el nombre->  wendy     Este es el nombre completo -> Wendy Williams\n",
      "Este es el nombre->  mary     Este es el nombre completo -> Mary Contrary\n",
      "Este es el nombre->  fred     Este es el nombre completo -> Fred Flinstone\n",
      "Este es el nombre->  Gilberto     Este es el nombre completo -> Gilberto_Martinez \n",
      "Este es el nombre->  wendy     Este es el nombre completo -> Wendy Williams\n",
      "Este es el nombre->  mary     Este es el nombre completo -> Mary Contrary\n",
      "Este es el nombre->  fred     Este es el nombre completo -> Fred Flinstone\n"
     ]
    }
   ],
   "source": [
    "for name, fullname in session.query(User.name, User.fullname):\n",
    "    print(\"Este es el nombre-> \",name, \"    Este es el nombre completo ->\",fullname)"
   ]
  },
  {
   "cell_type": "code",
   "execution_count": 75,
   "metadata": {},
   "outputs": [
    {
     "name": "stdout",
     "output_type": "stream",
     "text": [
      "2022-12-13 15:17:55,526 INFO sqlalchemy.engine.Engine SELECT users.id AS users_id, users.name AS users_name, users.fullname AS users_fullname, users.password AS users_password \n",
      "FROM users \n",
      "WHERE users.name = ?\n",
      "2022-12-13 15:17:55,527 INFO sqlalchemy.engine.Engine [generated in 0.00114s] ('Gilberto_Gutierrez',)\n"
     ]
    }
   ],
   "source": [
    "# Operadores de filtrado comun\n",
    "#equals\n",
    "for user in session.query(User).filter(User.name=='Gilberto_Gutierrez'):\n",
    "    print(user)\n"
   ]
  },
  {
   "cell_type": "code",
   "execution_count": 76,
   "metadata": {},
   "outputs": [
    {
     "name": "stdout",
     "output_type": "stream",
     "text": [
      "2022-12-13 15:17:55,575 INFO sqlalchemy.engine.Engine SELECT users.id AS users_id, users.name AS users_name, users.fullname AS users_fullname, users.password AS users_password \n",
      "FROM users \n",
      "WHERE users.name != ?\n",
      "2022-12-13 15:17:55,576 INFO sqlalchemy.engine.Engine [generated in 0.00091s] ('Gilberto',)\n",
      "<User(name='wendy', fullname='Wendy Williams', password='foobar')>\n",
      "<User(name='mary', fullname='Mary Contrary', password='xxg527')>\n",
      "<User(name='fred', fullname='Fred Flinstone', password='blah')>\n",
      "<User(name='wendy', fullname='Wendy Williams', password='foobar')>\n",
      "<User(name='mary', fullname='Mary Contrary', password='xxg527')>\n",
      "<User(name='fred', fullname='Fred Flinstone', password='blah')>\n"
     ]
    }
   ],
   "source": [
    "# Not equals\n",
    "for user in session.query(User).filter(User.name!='Gilberto'):\n",
    "    print(user)"
   ]
  },
  {
   "cell_type": "code",
   "execution_count": 77,
   "metadata": {},
   "outputs": [
    {
     "name": "stdout",
     "output_type": "stream",
     "text": [
      "2022-12-13 15:17:55,645 INFO sqlalchemy.engine.Engine SELECT users.id AS users_id, users.name AS users_name, users.fullname AS users_fullname, users.password AS users_password \n",
      "FROM users \n",
      "WHERE users.name LIKE ?\n",
      "2022-12-13 15:17:55,646 INFO sqlalchemy.engine.Engine [generated in 0.00117s] ('%Gilberto%',)\n",
      "<User(name='Gilberto', fullname='Gilberto_Martinez ', password='1234')>\n",
      "<User(name='Gilberto', fullname='Gilberto_Martinez ', password='1234')>\n"
     ]
    }
   ],
   "source": [
    "#Like\n",
    "for user in session.query(User).filter(User.name.like('%Gilberto%')):\n",
    "    print(user)"
   ]
  },
  {
   "cell_type": "code",
   "execution_count": 78,
   "metadata": {},
   "outputs": [
    {
     "name": "stdout",
     "output_type": "stream",
     "text": [
      "2022-12-13 15:17:55,691 INFO sqlalchemy.engine.Engine SELECT users.id AS users_id, users.name AS users_name, users.fullname AS users_fullname, users.password AS users_password \n",
      "FROM users \n",
      "WHERE users.name IN (?, ?, ?)\n",
      "2022-12-13 15:17:55,693 INFO sqlalchemy.engine.Engine [cached since 0.4496s ago] ('Gilberto', 'wendy', 'mary')\n",
      "<User(name='Gilberto', fullname='Gilberto_Martinez ', password='1234')>\n",
      "<User(name='wendy', fullname='Wendy Williams', password='foobar')>\n",
      "<User(name='mary', fullname='Mary Contrary', password='xxg527')>\n",
      "<User(name='Gilberto', fullname='Gilberto_Martinez ', password='1234')>\n",
      "<User(name='wendy', fullname='Wendy Williams', password='foobar')>\n",
      "<User(name='mary', fullname='Mary Contrary', password='xxg527')>\n"
     ]
    }
   ],
   "source": [
    "# IN\n",
    "for user in session.query(User).filter(User.name.in_(['Gilberto','wendy','mary'])):\n",
    "    print(user)"
   ]
  },
  {
   "cell_type": "code",
   "execution_count": 79,
   "metadata": {},
   "outputs": [
    {
     "name": "stdout",
     "output_type": "stream",
     "text": [
      "2022-12-13 15:17:55,740 INFO sqlalchemy.engine.Engine SELECT users.id AS users_id, users.name AS users_name, users.fullname AS users_fullname, users.password AS users_password \n",
      "FROM users \n",
      "WHERE (users.name NOT IN (?, ?, ?))\n",
      "2022-12-13 15:17:55,741 INFO sqlalchemy.engine.Engine [generated in 0.00115s] ('Gilberto', 'wendy', 'mary')\n",
      "<User(name='fred', fullname='Fred Flinstone', password='blah')>\n",
      "<User(name='fred', fullname='Fred Flinstone', password='blah')>\n"
     ]
    }
   ],
   "source": [
    "# not in\n",
    "for user in session.query(User).filter(~User.name.in_(['Gilberto','wendy','mary'])):\n",
    "    print(user)"
   ]
  },
  {
   "cell_type": "code",
   "execution_count": 80,
   "metadata": {},
   "outputs": [
    {
     "name": "stdout",
     "output_type": "stream",
     "text": [
      "2022-12-13 15:17:55,788 INFO sqlalchemy.engine.Engine SELECT users.id AS users_id, users.name AS users_name, users.fullname AS users_fullname, users.password AS users_password \n",
      "FROM users \n",
      "WHERE users.name = ? AND users.fullname = ?\n",
      "2022-12-13 15:17:55,790 INFO sqlalchemy.engine.Engine [generated in 0.00145s] ('Gilberto', 'Gilberto_Gutierrez')\n"
     ]
    }
   ],
   "source": [
    "# and \n",
    "for user in session.query(User).filter(User.name=='Gilberto', User.fullname=='Gilberto_Gutierrez'):\n",
    "    print(user)"
   ]
  },
  {
   "cell_type": "code",
   "execution_count": 81,
   "metadata": {},
   "outputs": [
    {
     "name": "stdout",
     "output_type": "stream",
     "text": [
      "2022-12-13 15:17:55,833 INFO sqlalchemy.engine.Engine SELECT users.id AS users_id, users.name AS users_name, users.fullname AS users_fullname, users.password AS users_password \n",
      "FROM users \n",
      "WHERE users.name = ? OR users.name = ?\n",
      "2022-12-13 15:17:55,835 INFO sqlalchemy.engine.Engine [generated in 0.00138s] ('Gilberto', 'wendy')\n",
      "<User(name='Gilberto', fullname='Gilberto_Martinez ', password='1234')>\n",
      "<User(name='wendy', fullname='Wendy Williams', password='foobar')>\n",
      "<User(name='Gilberto', fullname='Gilberto_Martinez ', password='1234')>\n",
      "<User(name='wendy', fullname='Wendy Williams', password='foobar')>\n"
     ]
    }
   ],
   "source": [
    "#or\n",
    "from sqlalchemy import or_\n",
    "\n",
    "for user in session.query(User).filter(or_(User.name=='Gilberto', User.name=='wendy')):\n",
    "    print(user)"
   ]
  },
  {
   "cell_type": "code",
   "execution_count": 82,
   "metadata": {},
   "outputs": [],
   "source": [
    "#Relaciones\n",
    "\n",
    "from sqlalchemy import ForeignKey\n",
    "from sqlalchemy.orm import relationship\n",
    "\n",
    "class Address(Base):\n",
    "    __tablename__='addresses'\n",
    "    id=Column(Integer, primary_key=True)\n",
    "    email_address=Column(String, nullable=False)\n",
    "    user_id=Column(Integer, ForeignKey('users.id'))\n",
    "\n",
    "    user=relationship(\"User\", back_populates=\"addresses\")\n",
    "\n",
    "    def __repr__(self):\n",
    "        return \"<Address(email_address='%s')>\" % self.email_address"
   ]
  },
  {
   "cell_type": "code",
   "execution_count": 92,
   "metadata": {},
   "outputs": [
    {
     "name": "stdout",
     "output_type": "stream",
     "text": [
      "2022-12-13 15:21:11,311 INFO sqlalchemy.engine.Engine BEGIN (implicit)\n",
      "2022-12-13 15:21:11,312 INFO sqlalchemy.engine.Engine PRAGMA main.table_info(\"users\")\n",
      "2022-12-13 15:21:11,313 INFO sqlalchemy.engine.Engine [raw sql] ()\n",
      "2022-12-13 15:21:11,314 INFO sqlalchemy.engine.Engine PRAGMA main.table_info(\"addresses\")\n",
      "2022-12-13 15:21:11,314 INFO sqlalchemy.engine.Engine [raw sql] ()\n",
      "2022-12-13 15:21:11,315 INFO sqlalchemy.engine.Engine COMMIT\n"
     ]
    }
   ],
   "source": [
    "user.Address=relationship(\"Address\", order_by=Address.id, back_populates=\"user\")\n",
    "Base.metadata.create_all(engine)"
   ]
  },
  {
   "cell_type": "code",
   "execution_count": 93,
   "metadata": {},
   "outputs": [
    {
     "ename": "InvalidRequestError",
     "evalue": "One or more mappers failed to initialize - can't proceed with initialization of other mappers. Triggering mapper: 'mapped class Address->addresses'. Original exception was: Mapper 'mapped class User->users' has no property 'addresses'",
     "output_type": "error",
     "traceback": [
      "\u001b[1;31m---------------------------------------------------------------------------\u001b[0m",
      "\u001b[1;31mInvalidRequestError\u001b[0m                       Traceback (most recent call last)",
      "\u001b[1;32mc:\\Users\\gilbe\\OneDrive\\Documentos\\GitHub\\ProgramingPOO\\sqlalchemy_ORM\\servidorwebConcurrente\\Servidor Socket Multihilo TCP  y Cliente TCP en Python\\Clase-5\\Sqlachemy.ipynb Celda 24\u001b[0m in \u001b[0;36m<cell line: 1>\u001b[1;34m()\u001b[0m\n\u001b[1;32m----> <a href='vscode-notebook-cell:/c%3A/Users/gilbe/OneDrive/Documentos/GitHub/ProgramingPOO/sqlalchemy_ORM/servidorwebConcurrente/Servidor%20Socket%20Multihilo%20TCP%20%20y%20Cliente%20TCP%20en%20Python/Clase-5/Sqlachemy.ipynb#X33sZmlsZQ%3D%3D?line=0'>1</a>\u001b[0m jack\u001b[39m=\u001b[39mUser(name\u001b[39m=\u001b[39;49m\u001b[39m'\u001b[39;49m\u001b[39mjack\u001b[39;49m\u001b[39m'\u001b[39;49m, fullname\u001b[39m=\u001b[39;49m\u001b[39m'\u001b[39;49m\u001b[39mJack Bean\u001b[39;49m\u001b[39m'\u001b[39;49m, password\u001b[39m=\u001b[39;49m\u001b[39m'\u001b[39;49m\u001b[39mgjffdd\u001b[39;49m\u001b[39m'\u001b[39;49m)\n\u001b[0;32m      <a href='vscode-notebook-cell:/c%3A/Users/gilbe/OneDrive/Documentos/GitHub/ProgramingPOO/sqlalchemy_ORM/servidorwebConcurrente/Servidor%20Socket%20Multihilo%20TCP%20%20y%20Cliente%20TCP%20en%20Python/Clase-5/Sqlachemy.ipynb#X33sZmlsZQ%3D%3D?line=1'>2</a>\u001b[0m jack\u001b[39m.\u001b[39mAddress\u001b[39m=\u001b[39m[Address(emai_address\u001b[39m=\u001b[39m\u001b[39m'\u001b[39m\u001b[39mjack@google.com\u001b[39m\u001b[39m'\u001b[39m),Address(email_address\u001b[39m=\u001b[39m\u001b[39m'\u001b[39m\u001b[39mjk25@yahoo.com\u001b[39m\u001b[39m'\u001b[39m)]\n",
      "File \u001b[1;32m<string>:4\u001b[0m, in \u001b[0;36m__init__\u001b[1;34m(self, **kwargs)\u001b[0m\n",
      "File \u001b[1;32mc:\\Users\\gilbe\\AppData\\Local\\Programs\\Python\\Python39\\lib\\site-packages\\sqlalchemy\\orm\\state.py:476\u001b[0m, in \u001b[0;36mInstanceState._initialize_instance\u001b[1;34m(*mixed, **kwargs)\u001b[0m\n\u001b[0;32m    473\u001b[0m \u001b[39mself\u001b[39m, instance, args \u001b[39m=\u001b[39m mixed[\u001b[39m0\u001b[39m], mixed[\u001b[39m1\u001b[39m], mixed[\u001b[39m2\u001b[39m:]  \u001b[39m# noqa\u001b[39;00m\n\u001b[0;32m    474\u001b[0m manager \u001b[39m=\u001b[39m \u001b[39mself\u001b[39m\u001b[39m.\u001b[39mmanager\n\u001b[1;32m--> 476\u001b[0m manager\u001b[39m.\u001b[39;49mdispatch\u001b[39m.\u001b[39;49minit(\u001b[39mself\u001b[39;49m, args, kwargs)\n\u001b[0;32m    478\u001b[0m \u001b[39mtry\u001b[39;00m:\n\u001b[0;32m    479\u001b[0m     \u001b[39mreturn\u001b[39;00m manager\u001b[39m.\u001b[39moriginal_init(\u001b[39m*\u001b[39mmixed[\u001b[39m1\u001b[39m:], \u001b[39m*\u001b[39m\u001b[39m*\u001b[39mkwargs)\n",
      "File \u001b[1;32mc:\\Users\\gilbe\\AppData\\Local\\Programs\\Python\\Python39\\lib\\site-packages\\sqlalchemy\\event\\attr.py:334\u001b[0m, in \u001b[0;36m_CompoundListener.__call__\u001b[1;34m(self, *args, **kw)\u001b[0m\n\u001b[0;32m    332\u001b[0m     fn(\u001b[39m*\u001b[39margs, \u001b[39m*\u001b[39m\u001b[39m*\u001b[39mkw)\n\u001b[0;32m    333\u001b[0m \u001b[39mfor\u001b[39;00m fn \u001b[39min\u001b[39;00m \u001b[39mself\u001b[39m\u001b[39m.\u001b[39mlisteners:\n\u001b[1;32m--> 334\u001b[0m     fn(\u001b[39m*\u001b[39margs, \u001b[39m*\u001b[39m\u001b[39m*\u001b[39mkw)\n",
      "File \u001b[1;32mc:\\Users\\gilbe\\AppData\\Local\\Programs\\Python\\Python39\\lib\\site-packages\\sqlalchemy\\orm\\mapper.py:3716\u001b[0m, in \u001b[0;36m_event_on_init\u001b[1;34m(state, args, kwargs)\u001b[0m\n\u001b[0;32m   3714\u001b[0m instrumenting_mapper \u001b[39m=\u001b[39m state\u001b[39m.\u001b[39mmanager\u001b[39m.\u001b[39mmapper\n\u001b[0;32m   3715\u001b[0m \u001b[39mif\u001b[39;00m instrumenting_mapper:\n\u001b[1;32m-> 3716\u001b[0m     instrumenting_mapper\u001b[39m.\u001b[39;49m_check_configure()\n\u001b[0;32m   3717\u001b[0m     \u001b[39mif\u001b[39;00m instrumenting_mapper\u001b[39m.\u001b[39m_set_polymorphic_identity:\n\u001b[0;32m   3718\u001b[0m         instrumenting_mapper\u001b[39m.\u001b[39m_set_polymorphic_identity(state)\n",
      "File \u001b[1;32mc:\\Users\\gilbe\\AppData\\Local\\Programs\\Python\\Python39\\lib\\site-packages\\sqlalchemy\\orm\\mapper.py:1941\u001b[0m, in \u001b[0;36mMapper._check_configure\u001b[1;34m(self)\u001b[0m\n\u001b[0;32m   1939\u001b[0m \u001b[39mdef\u001b[39;00m \u001b[39m_check_configure\u001b[39m(\u001b[39mself\u001b[39m):\n\u001b[0;32m   1940\u001b[0m     \u001b[39mif\u001b[39;00m \u001b[39mself\u001b[39m\u001b[39m.\u001b[39mregistry\u001b[39m.\u001b[39m_new_mappers:\n\u001b[1;32m-> 1941\u001b[0m         _configure_registries({\u001b[39mself\u001b[39;49m\u001b[39m.\u001b[39;49mregistry}, cascade\u001b[39m=\u001b[39;49m\u001b[39mTrue\u001b[39;49;00m)\n",
      "File \u001b[1;32mc:\\Users\\gilbe\\AppData\\Local\\Programs\\Python\\Python39\\lib\\site-packages\\sqlalchemy\\orm\\mapper.py:3527\u001b[0m, in \u001b[0;36m_configure_registries\u001b[1;34m(registries, cascade)\u001b[0m\n\u001b[0;32m   3521\u001b[0m     Mapper\u001b[39m.\u001b[39mdispatch\u001b[39m.\u001b[39m_for_class(Mapper)\u001b[39m.\u001b[39mbefore_configured()\n\u001b[0;32m   3522\u001b[0m     \u001b[39m# initialize properties on all mappers\u001b[39;00m\n\u001b[0;32m   3523\u001b[0m     \u001b[39m# note that _mapper_registry is unordered, which\u001b[39;00m\n\u001b[0;32m   3524\u001b[0m     \u001b[39m# may randomly conceal/reveal issues related to\u001b[39;00m\n\u001b[0;32m   3525\u001b[0m     \u001b[39m# the order of mapper compilation\u001b[39;00m\n\u001b[1;32m-> 3527\u001b[0m     _do_configure_registries(registries, cascade)\n\u001b[0;32m   3528\u001b[0m \u001b[39mfinally\u001b[39;00m:\n\u001b[0;32m   3529\u001b[0m     _already_compiling \u001b[39m=\u001b[39m \u001b[39mFalse\u001b[39;00m\n",
      "File \u001b[1;32mc:\\Users\\gilbe\\AppData\\Local\\Programs\\Python\\Python39\\lib\\site-packages\\sqlalchemy\\orm\\mapper.py:3562\u001b[0m, in \u001b[0;36m_do_configure_registries\u001b[1;34m(registries, cascade)\u001b[0m\n\u001b[0;32m   3554\u001b[0m     e \u001b[39m=\u001b[39m sa_exc\u001b[39m.\u001b[39mInvalidRequestError(\n\u001b[0;32m   3555\u001b[0m         \u001b[39m\"\u001b[39m\u001b[39mOne or more mappers failed to initialize - \u001b[39m\u001b[39m\"\u001b[39m\n\u001b[0;32m   3556\u001b[0m         \u001b[39m\"\u001b[39m\u001b[39mcan\u001b[39m\u001b[39m'\u001b[39m\u001b[39mt proceed with initialization of other \u001b[39m\u001b[39m\"\u001b[39m\n\u001b[1;32m   (...)\u001b[0m\n\u001b[0;32m   3559\u001b[0m         \u001b[39m%\u001b[39m (mapper, mapper\u001b[39m.\u001b[39m_configure_failed)\n\u001b[0;32m   3560\u001b[0m     )\n\u001b[0;32m   3561\u001b[0m     e\u001b[39m.\u001b[39m_configure_failed \u001b[39m=\u001b[39m mapper\u001b[39m.\u001b[39m_configure_failed\n\u001b[1;32m-> 3562\u001b[0m     \u001b[39mraise\u001b[39;00m e\n\u001b[0;32m   3564\u001b[0m \u001b[39mif\u001b[39;00m \u001b[39mnot\u001b[39;00m mapper\u001b[39m.\u001b[39mconfigured:\n\u001b[0;32m   3565\u001b[0m     \u001b[39mtry\u001b[39;00m:\n",
      "\u001b[1;31mInvalidRequestError\u001b[0m: One or more mappers failed to initialize - can't proceed with initialization of other mappers. Triggering mapper: 'mapped class Address->addresses'. Original exception was: Mapper 'mapped class User->users' has no property 'addresses'"
     ]
    }
   ],
   "source": [
    "jack=User(name='jack', fullname='Jack Bean', password='gjffdd')\n",
    "jack.Address=[Address(emai_address='jack@google.com'),Address(email_address='jk25@yahoo.com')]"
   ]
  },
  {
   "cell_type": "code",
   "execution_count": null,
   "metadata": {},
   "outputs": [],
   "source": [
    "jack.addresses[1]"
   ]
  },
  {
   "cell_type": "code",
   "execution_count": null,
   "metadata": {},
   "outputs": [],
   "source": [
    "jack.addresses[1].user"
   ]
  },
  {
   "cell_type": "code",
   "execution_count": null,
   "metadata": {},
   "outputs": [],
   "source": [
    "session.add(jack)\n",
    "session.commit()\n",
    "jack=session.query(User).filter_by(name='jack').one()\n",
    "jack.addresses"
   ]
  }
 ],
 "metadata": {
  "kernelspec": {
   "display_name": "Python 3.9.10 64-bit",
   "language": "python",
   "name": "python3"
  },
  "language_info": {
   "codemirror_mode": {
    "name": "ipython",
    "version": 3
   },
   "file_extension": ".py",
   "mimetype": "text/x-python",
   "name": "python",
   "nbconvert_exporter": "python",
   "pygments_lexer": "ipython3",
   "version": "3.9.10"
  },
  "orig_nbformat": 4,
  "vscode": {
   "interpreter": {
    "hash": "aee5161b8d3706f136b414f83d25d87cb7ee38bd6b696120dcc0cd5f5b73368c"
   }
  }
 },
 "nbformat": 4,
 "nbformat_minor": 2
}
