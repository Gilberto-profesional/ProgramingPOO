{
 "cells": [
  {
   "cell_type": "markdown",
   "metadata": {},
   "source": [
    "<div style=\"display:flex;flex-direction:row;justify-content: space-evenly;\">\n",
    "<img src=\"tec.png\" style=\"width:320px;height:197px;\"/>\n",
    "<img src=\"itcolima.svg\" style=\"width:197px\"/>\n",
    "</div>\n",
    "<div style=\"display:flex;flex-direction:column;gap:20px;text-align:center\"></div>\n",
    "\n",
    "<h1 align=\"center\">Tecnológico Nacional de México\n",
    "campus Colima</h1><br></br>\n",
    "<h2 align=\"center\">Maestría en Sistemas\n",
    "Computacionales</h2><br></br>\n",
    "<h3 align=\"center\">Principios Básicos de Programación Orientada a Objetos</h3><br></br>\n",
    "<h3 align=\"center\">Practica 1</h3><br></br>\n",
    "<h4 align=\"center\">Docente:</h4><br></br>\n",
    "<h4 align=\"center\">D. en C. Patricia Figueroa Millan </h4><br></br>\n",
    "<h4 align=\"center\">Autor:</h4><br></br>\n",
    "<h4 align=\"center\">Ing. Gilberto Rene Martinez Gutierrez G2146013</h4><br></br>\n",
    "<h4 align=\"center\">Ing. Ricardo Gutierrez Valenzuela G2146012</h4><br></br>\n",
    "<h4 align=\"center\"></h4><br></br>\n",
    "<h4 align=\"center\">Villa de Álvarez, Colima, México</h4><br></br>\n",
    "<h4 align=\"center\">30 de agosto de 2022</h4><br></br>"
   ]
  },
  {
   "cell_type": "markdown",
   "metadata": {},
   "source": [
    "<h1 align=\"rigth\" >¿ Que es la herencia en POO ?</h1><br></br>"
   ]
  },
  {
   "cell_type": "markdown",
   "metadata": {},
   "source": [
    "\n",
    "<h4 align=\"rigth\">Es conocicomo uno de los pilares de la programacion orientada a objetos.</h4>\n",
    "<h4 align=\"rigth\"> Es la capacidad de crear clases que adquieren de manera automatica los miembro (Atributos y metodos) de otras clases que ya existen.</h4>\n",
    "<h4 align=\"rigth\"> Ademas de heredar los metodos y atributos las clases hijas pueden crear sus propios metodos y atributos</h4>\n",
    "\n",
    "\n"
   ]
  },
  {
   "cell_type": "markdown",
   "metadata": {},
   "source": [
    "<h2 align=\"rigth\">Terminologia importante.</h2>"
   ]
  },
  {
   "cell_type": "markdown",
   "metadata": {},
   "source": [
    "\n",
    "<h4 align=\"rigth\">Superclase: la clase cuyas características se heredan se conoce como superclase (o una clase base o una clase principal).</h4>\n",
    "\n",
    "<h4 align=\"rigth\">Subclase: la clase que hereda la otra clase se conoce como subclase (o una clase derivada, clase extendida o clase hija). La subclase puede agregar sus propios campos y métodos además de los campos y métodos de la superclase.</h4>\n",
    "\n",
    "\n",
    "<h4 align=\"rigth\">Reutilización: la herencia respalda el concepto de “reutilización”, es decir, cuando queremos crear una clase nueva y ya hay una clase que incluye parte del código que queremos, podemos derivar nuestra nueva clase de la clase existente. Al hacer esto, estamos reutilizando los campos/atributos y métodos de la clase existente.</h4>\n",
    "\n",
    "\n",
    "\n",
    "\n",
    "\n",
    "\n"
   ]
  },
  {
   "cell_type": "markdown",
   "metadata": {},
   "source": [
    "\n",
    "<h2 align=\"rigth\">Ventajas de la herencia</h2>"
   ]
  },
  {
   "cell_type": "markdown",
   "metadata": {},
   "source": [
    "\n",
    "<h4 align=\"rigth\">•\tReutilización del código: En aquellos casos donde se necesita crear una clase que, además de otros propios, deba incluir los métodos definidos en otra, la herencia evita tener que reescribir todos esos métodos en la nueva clase.</h4>\n",
    "\n",
    "\n",
    "<h4 align=\"rigth\">•\tMantenimiento de aplicaciones existentes: Utilizando la herencia, si tenemos una clase con una determinada funcionalidad y tenemos la necesidad de ampliar dicha funcionalidad, no necesitamos modificar la clase existente (la cual se puede seguir utilizando para el tipo de programa para la que fue diseñada) sino que podemos crear una clase que herede a la primera, adquiriendo toda su funcionalidad y añadiendo la suya propia.\n",
    "</h4>\n",
    "\n",
    "\n",
    "\n"
   ]
  },
  {
   "cell_type": "markdown",
   "metadata": {},
   "source": [
    "<h2 align=\"rigth\">Sumary</h2>\n",
    "<h4 align=\"rigth\">La herencia es un proceso mediante el cual se puede crear una clase hija que hereda de una clase padre, compartiendo sus métodos y atributos. Además de ello, una clase hija puede sobreescribir los métodos o atributos, o incluso definir unos nuevos.</h4>\n",
    "\n"
   ]
  },
  {
   "cell_type": "markdown",
   "metadata": {},
   "source": [
    "<img src=\"Ejemplos herencia.jpeg\" style=\"width:320px;height:197px;\"/>"
   ]
  },
  {
   "cell_type": "code",
   "execution_count": 19,
   "metadata": {},
   "outputs": [],
   "source": [
    "# Creacion de herencia simple de clase\n",
    "\n",
    "# Definimos una clase padre\n",
    "class Animal:\n",
    "    pass\n",
    "\n",
    "# Creamos una clase hija que hereda de la padre\n",
    "class Perro(Animal):\n",
    "    pass"
   ]
  },
  {
   "cell_type": "code",
   "execution_count": 20,
   "metadata": {},
   "outputs": [
    {
     "name": "stdout",
     "output_type": "stream",
     "text": [
      "Soy un Animal del tipo Perro\n",
      "Tengo  10  Años\n",
      "Soy un Animal del tipo Gato\n"
     ]
    }
   ],
   "source": [
    "class Animal:\n",
    "    def __init__(self, especie, edad):\n",
    "        self.especie = especie\n",
    "        self.edad = edad\n",
    "\n",
    "    # Método genérico pero con implementación particular\n",
    "    def hablar(self):\n",
    "        # Método vacío\n",
    "        pass\n",
    "\n",
    "    # Método genérico pero con implementación particular\n",
    "    def moverse(self):\n",
    "        # Método vacío\n",
    "        pass\n",
    "\n",
    "    # Método genérico con la misma implementación\n",
    "    def describeme(self):\n",
    "        print(\"Soy un Animal del tipo\", type(self).__name__)\n",
    "\n",
    "  \n",
    "\n",
    "\n",
    "# Perro hereda de Animal\n",
    "class Perro(Animal):\n",
    "    pass\n",
    "\n",
    "class Gato(Animal):\n",
    "    pass\n",
    "\n",
    "mi_Gato=Gato(\"Felino\", 2)\n",
    "\n",
    "mi_perro = Perro('mamífero', 10)\n",
    "\n",
    "\n",
    "mi_perro.describeme()\n",
    "\n",
    "\n",
    "print(\"Tengo \",mi_perro.edad,\" Años\")\n",
    "\n",
    "\n",
    "\n",
    "mi_Gato.describeme()\n",
    "# Soy un Animal del tipo Perro"
   ]
  }
 ],
 "metadata": {
  "kernelspec": {
   "display_name": "Python 3.9.10 64-bit",
   "language": "python",
   "name": "python3"
  },
  "language_info": {
   "codemirror_mode": {
    "name": "ipython",
    "version": 3
   },
   "file_extension": ".py",
   "mimetype": "text/x-python",
   "name": "python",
   "nbconvert_exporter": "python",
   "pygments_lexer": "ipython3",
   "version": "3.9.10"
  },
  "orig_nbformat": 4,
  "vscode": {
   "interpreter": {
    "hash": "aee5161b8d3706f136b414f83d25d87cb7ee38bd6b696120dcc0cd5f5b73368c"
   }
  }
 },
 "nbformat": 4,
 "nbformat_minor": 2
}
