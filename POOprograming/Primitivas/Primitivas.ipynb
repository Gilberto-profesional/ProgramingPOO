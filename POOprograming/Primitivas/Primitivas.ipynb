{
 "cells": [
  {
   "cell_type": "markdown",
   "metadata": {},
   "source": [
    "<div style=\"display:flex;flex-direction:row;justify-content: space-evenly;\">\n",
    "<img src=\"tec.png\" style=\"width:320px;height:197px;\"/>\n",
    "<img src=\"itcolima.svg\" style=\"width:197px\"/>\n",
    "</div>\n",
    "<div style=\"display:flex;flex-direction:column;gap:20px;text-align:center\"></div>\n",
    "\n",
    "<h1 align=\"center\">Tecnológico Nacional de México\n",
    "campus Colima</h1>\n",
    "<h2 align=\"center\">Maestría en Sistemas\n",
    "Computacionales</h2><br></br>\n",
    "<h3 align=\"center\">Primitivas de Sincronización</h3>\n",
    "<h3 align=\"center\">Ejercicio Práctico:Primitivas de Sincronización</h3><br></br>\n",
    "<h4 align=\"center\">Docente:</h4>\n",
    "<h4 align=\"center\">D. en C. Patricia Figueroa Millan </h4><br></br>\n",
    "<h4 align=\"center\">Autor:</h4>\n",
    "<h4 align=\"center\">Ing. Gilberto Rene Martinez Gutierrez G2146013</h4><br></br>\n",
    "<h4 align=\"center\"></h4>\n",
    "<h4 align=\"center\">Villa de Álvarez, Colima, México</h4>\n",
    "<h4 align=\"center\">08 de noviembre de 2022</h4>"
   ]
  },
  {
   "cell_type": "markdown",
   "metadata": {},
   "source": [
    "<h2 align=\"rigth\" >Objetivo</h2>\n",
    "\n",
    "<h4 align=\"rigth\" >Desarrollar un ejercicio sobre los usos e implementacion de las primitivas de sincronizacion</h4>"
   ]
  },
  {
   "cell_type": "markdown",
   "metadata": {},
   "source": [
    "<h2 align=\"rigth\" >Metodologia</h2>\n",
    "<h4 align=\"justify\" >Para la resolucion del problema se realizo un analisis previo sobre el funcionamiento de las primitivas de sincronizacion donde se recurrio a la investigacion en medios especiales, el contenido de este material facilito el entendimiento, ademas de permitir analisar unos ejemplos de su funcionamiento </h4>"
   ]
  },
  {
   "cell_type": "markdown",
   "metadata": {},
   "source": [
    "<h2 align=\"rigth\" >Look </h2>\n",
    "\n",
    "<h4 align=\"rigth\" >A primitive lock is in one of two states, “locked” or “unlocked”. It is created in the unlocked state. It has two basic methods, acquire() and release(). When the state is unlocked, acquire() changes the state to locked and returns immediately. When the state is locked, acquire() blocks until a call to release() in another thread changes it to unlocked, then the acquire() call resets it to locked and returns. </h4>"
   ]
  },
  {
   "cell_type": "code",
   "execution_count": 3,
   "metadata": {},
   "outputs": [
    {
     "name": "stdout",
     "output_type": "stream",
     "text": [
      "iteration 0. expected x = 2000000, got 2000000\n",
      "iteration 1. expected x = 2000000, got 2000000\n",
      "iteration 2. expected x = 2000000, got 2000000\n",
      "iteration 3. expected x = 2000000, got 2000000\n",
      "iteration 4. expected x = 2000000, got 2000000\n"
     ]
    }
   ],
   "source": [
    "import threading\n",
    "import asyncio\n",
    "Lock=threading.Lock()\n",
    "ITERS = 1000000\n",
    "x = [0]\n",
    "\n",
    "#asyncio functions\n",
    "def worker():\n",
    "    for _ in range(ITERS):       \n",
    "        with Lock:\n",
    "            x[0] += 1\n",
    "\n",
    "def main():\n",
    "    x[0] = 0  # you may use `global x` instead of this list trick too\n",
    "    t1 = threading.Thread(target=worker)\n",
    "    t2 = threading.Thread(target=worker)\n",
    "\n",
    "    t1.start()\n",
    "    t2.start()\n",
    "    t1.join()\n",
    "    t2.join()\n",
    "\n",
    "for i in range(5):\n",
    "    main()\n",
    "    print(f'iteration {i}. expected x = {ITERS*2}, got {x[0]}')"
   ]
  },
  {
   "cell_type": "markdown",
   "metadata": {},
   "source": [
    "<h2 align=\"rigth\" >Event </h2>\n",
    "\n",
    "<h4 align=\"rigth\" >This is one of the simplest mechanisms for communication between threads: one thread signals an event and other threads wait for it.\n",
    "\n",
    "An event object manages an internal flag that can be set to true with the set() method and reset to false with the clear() method. The wait() method blocks until the flag is true.</h4>"
   ]
  },
  {
   "cell_type": "code",
   "execution_count": null,
   "metadata": {},
   "outputs": [],
   "source": [
    "from time import sleep\n",
    "from random import random\n",
    "from threading import Thread\n",
    "from threading import Event\n",
    " \n",
    "# target task function\n",
    "def task(event, number):\n",
    "    # wait for the event to be set\n",
    "    event.wait()\n",
    "    # begin processing\n",
    "    print(\"Se inicio el hilo\")\n",
    "\n",
    "\n",
    "\n",
    "# create a shared event object\n",
    "event = Event()\n",
    "# create a suite of threads\n",
    "for i in range(5):\n",
    "    thread = Thread(target=task, args=(event, i))\n",
    "    thread.start()\n",
    "    \n",
    "# block for a moment\n",
    "print('Main thread blocking... ')\n",
    "\n",
    "sleep(10)\n",
    "# start processing in all threads\n",
    "event.set()\n",
    "# wait for all the threads to finish...\n",
    "\n"
   ]
  },
  {
   "cell_type": "markdown",
   "metadata": {},
   "source": [
    "<h2 align=\"rigth\" >Condition Objects </h2>\n",
    "\n",
    "<h4 align=\"rigth\" >A condition variable is always associated with some kind of lock; this can be passed in or one will be created by default. Passing one in is useful when several condition variables must share the same lock. The lock is part of the condition object: you don’t have to track it separately.\n",
    "\n",
    "A condition variable obeys the context management protocol: using the with statement acquires the associated lock for the duration of the enclosed block. The acquire() and release() methods also call the corresponding methods of the associated lock.</h4>"
   ]
  },
  {
   "cell_type": "code",
   "execution_count": null,
   "metadata": {},
   "outputs": [],
   "source": [
    "import threading\n",
    "import time\n",
    "from random import randint\n",
    "\n",
    "class SomeItem:\n",
    "  # init method\n",
    "  def __init__(self):\n",
    "    # initialize empty list\n",
    "    self.list = []\n",
    "  \n",
    "  # add to list method for producer\n",
    "  def produce(self, item):\n",
    "    print(\"Adding item to list...\")\n",
    "    self.list.append(item)\n",
    "    \n",
    "  # remove item from list method for consumer\n",
    "  def consume(self):\n",
    "    print(\"consuming item from list...\")\n",
    "    item = self.list[0]\n",
    "    print(\"Item consumed: \", item)\n",
    "    self.list.remove(item)\n",
    "\n",
    "def producer(si, cond):\n",
    "    r = randint(1,5)\n",
    "    # creating random number of items\n",
    "    for i in range(1, r):\n",
    "      print(\"working on item creation, it will take: \" + str(i) + \" seconds\")\n",
    "      time.sleep(i)\n",
    "      print(\"acquiring lock...\")\n",
    "      cond.acquire()\n",
    "      try:\n",
    "        si.produce(i)\n",
    "        cond.notify()\n",
    "      finally:\n",
    "        cond.release()\n",
    "      \n",
    "      \n",
    "def consumer(si, cond):\n",
    "    cond.acquire()\n",
    "    while True:\n",
    "      try:\n",
    "        si.consume()\n",
    "      except:   \n",
    "        print(\"No item to consume...\")\n",
    "        # wait with a maximum timeout of 10 sec\n",
    "        val = cond.wait(10)\n",
    "        if val:\n",
    "          print(\"notification received about item production...\")\n",
    "          continue\n",
    "        else:\n",
    "          print(\"waiting timeout...\")\n",
    "          break\n",
    "        \n",
    "    cond.release()\n",
    "    \n",
    "if __name__=='__main__':\n",
    "  # condition object\n",
    "  cond = threading.Condition()\n",
    "  # SomeItem object\n",
    "  si = SomeItem()\n",
    "  # producer thread\n",
    "  p = threading.Thread(target=producer, args=(si,cond,))\n",
    "  p.start()\n",
    "  # consumer thread\n",
    "  c = threading.Thread(target=consumer, args=(si,cond,))\n",
    "  c.start()\n",
    "\n",
    "  #print('Waiting for producer and consumer threads...')\n",
    "  p.join()\n",
    "  c.join()\n",
    "  print(\"Done\")"
   ]
  },
  {
   "cell_type": "markdown",
   "metadata": {},
   "source": [
    "<h2 align=\"rigth\" >Semaphore Objects </h2>\n",
    "\n",
    "<h4 align=\"rigth\" >This is one of the oldest synchronization primitives in the history of computer science, invented by the early Dutch computer scientist Edsger W. Dijkstra (he used the names P() and V() instead of acquire() and release()).\n",
    "\n",
    "A semaphore manages an internal counter which is decremented by each acquire() call and incremented by each release() call. The counter can never go below zero; when acquire() finds that it is zero, it blocks, waiting until some other thread calls release().</h4>"
   ]
  },
  {
   "cell_type": "code",
   "execution_count": null,
   "metadata": {},
   "outputs": [],
   "source": [
    "import threading\n",
    "import time\n",
    "import logging\n",
    "\n",
    "logging.basicConfig(level=logging.DEBUG,\n",
    "                    format='(%(threadName)-9s) %(message)s',)\n",
    "\n",
    "\n",
    "class ThreadPool(object):\n",
    "    def __init__(self):\n",
    "        super(ThreadPool, self).__init__()\n",
    "        self.active = []\n",
    "        self.lock = threading.Lock()\n",
    "    def makeActive(self, name):\n",
    "        with self.lock:\n",
    "            self.active.append(name)\n",
    "            logging.debug('Running: %s', self.active)\n",
    "    def makeInactive(self, name):\n",
    "        with self.lock:\n",
    "            self.active.remove(name)\n",
    "            logging.debug('Running: %s', self.active)\n",
    "\n",
    "\n",
    "def f(s, pool):\n",
    "    logging.debug('Waiting to join the pool')\n",
    "    with s:\n",
    "        name = threading.currentThread().getName()\n",
    "        pool.makeActive(name)\n",
    "        time.sleep(0.5)\n",
    "        pool.makeInactive(name)\n",
    "\n",
    "\n",
    "if __name__ == '__main__':\n",
    "    pool = ThreadPool()\n",
    "    s = threading.Semaphore(3)\n",
    "    for i in range(5):\n",
    "        t = threading.Thread(target=f, name='thread_'+str(i), args=(s, pool))\n",
    "        t.start()"
   ]
  },
  {
   "cell_type": "markdown",
   "metadata": {},
   "source": [
    "<h2 align=\"rigth\" >Barrier Objects </h2>\n",
    "\n",
    "<h4 align=\"rigth\" >This class provides a simple synchronization primitive for use by a fixed number of threads that need to wait for each other. Each of the threads tries to pass the barrier by calling the wait() method and will block until all of the threads have made their wait() calls. At this point, the threads are released simultaneously.\n",
    "\n",
    "The barrier can be reused any number of times for the same number of threads.\n",
    "\n",
    "As an example, here is a simple way to synchronize a client and server thread:</h4>"
   ]
  },
  {
   "cell_type": "code",
   "execution_count": null,
   "metadata": {},
   "outputs": [],
   "source": [
    "import threading\n",
    "import time\n",
    "\n",
    "def start_server():\n",
    "  # starting server\n",
    "  print(\"starting the server...\")\n",
    "  # do some startup work\n",
    "  time.sleep(2)\n",
    "  \n",
    "\n",
    "def server(b):\n",
    "    start_server()\n",
    "    b.wait()\n",
    "    print(\"Server is ready.\")\n",
    "\n",
    "def client(b):\n",
    "    print(\"waiting for server getting ready...\")\n",
    "    b.wait()\n",
    "    print(\"sending request to server...\")\n",
    "\n",
    "if __name__=='__main__':\n",
    "  \n",
    "  b = threading.Barrier(2, timeout=5)\n",
    "  # server thread\n",
    "  s = threading.Thread(target=server, args=(b,))\n",
    "  s.start()\n",
    "  # client thread\n",
    "  c = threading.Thread(target=client, args=(b,))\n",
    "  c.start()\n",
    "\n",
    "  s.join()\n",
    "  c.join()\n",
    "  print(\"Done\")"
   ]
  },
  {
   "cell_type": "markdown",
   "metadata": {},
   "source": [
    "<h2 align=\"rigth\" >Conclusiones</h2>\n",
    "\n",
    "<h4 align=\"justify\" >Gracias al desarrolo de esta actividad se logro comprender el funcionamiento de las primitivas de sincronizacion, a traves de este se comprendio la estructura con la cual se deben diseñar sistemas multihilo</h4>"
   ]
  }
 ],
 "metadata": {
  "kernelspec": {
   "display_name": "Python 3.9.10 64-bit",
   "language": "python",
   "name": "python3"
  },
  "language_info": {
   "codemirror_mode": {
    "name": "ipython",
    "version": 3
   },
   "file_extension": ".py",
   "mimetype": "text/x-python",
   "name": "python",
   "nbconvert_exporter": "python",
   "pygments_lexer": "ipython3",
   "version": "3.9.10"
  },
  "orig_nbformat": 4,
  "vscode": {
   "interpreter": {
    "hash": "aee5161b8d3706f136b414f83d25d87cb7ee38bd6b696120dcc0cd5f5b73368c"
   }
  }
 },
 "nbformat": 4,
 "nbformat_minor": 2
}
