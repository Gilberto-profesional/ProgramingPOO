{
 "cells": [
  {
   "cell_type": "markdown",
   "metadata": {},
   "source": [
    "<div style=\"display:flex;flex-direction:row;justify-content: space-evenly;\">\n",
    "<img src=\"tec.png\" style=\"width:320px;height:197px;\"/>\n",
    "<img src=\"itcolima.svg\" style=\"width:197px\"/>\n",
    "</div>\n",
    "<div style=\"display:flex;flex-direction:column;gap:20px;text-align:center\"></div>\n",
    "\n",
    "<h1 align=\"center\">Tecnológico Nacional de México\n",
    "campus Colima</h1>\n",
    "<h2 align=\"center\">Maestría en Sistemas\n",
    "Computacionales</h2><br></br>\n",
    "<h3 align=\"center\">Patrones de Diseño para Mapeo de Objetos: Data Mapper  y  Unit of Work </h3>\n",
    "<h3 align=\"center\">Investigacion: Mapeo de Objetos</h3><br></br>\n",
    "<h4 align=\"center\">Docente:</h4>\n",
    "<h4 align=\"center\">D. en C. Patricia Figueroa Millan </h4><br></br>\n",
    "<h4 align=\"center\">Autor:</h4>\n",
    "<h4 align=\"center\">Ing. Gilberto Rene Martinez Gutierrez G2146013</h4>\n",
    "<br></br>\n",
    "<h4 align=\"center\"></h4>\n",
    "<h4 align=\"center\">Villa de Álvarez, Colima, México</h4>\n",
    "<h4 align=\"center\">24 de noviembre de 2022</h4>"
   ]
  },
  {
   "cell_type": "markdown",
   "metadata": {},
   "source": [
    "<h2 align=\"rigth\" >Resumen</h2>"
   ]
  },
  {
   "cell_type": "markdown",
   "metadata": {},
   "source": [
    "<h4 align=\"justify\" >La actividad consisten en la documentacion e implementacion del patron de diseño MVC(modelo, vista, controlador)</h4>"
   ]
  },
  {
   "cell_type": "markdown",
   "metadata": {},
   "source": [
    "<h2 align=\"rigth\" >Introducción</h2>\n"
   ]
  },
  {
   "cell_type": "markdown",
   "metadata": {},
   "source": [
    "<h4 align=\"justify\" >Modelo Vista Controlador (MVC) es un estilo de arquitectura de software que separa los datos de una aplicación, la interfaz de usuario, y la lógica de control en tres componentes distintos. Se trata de un modelo muy maduro y que ha demostrado su validez a lo largo de los años en todo tipo de aplicaciones, y sobre multitud de lenguajes y plataformas de desarrollo.\n",
    "\n",
    "</h4>\n",
    "\n",
    "<h4 align=\"justify\" >El Modelo que contiene una representación de los datos que maneja el sistema, su lógica de negocio, y sus mecanismos de persistencia.\n",
    "</h4>\n",
    "\n",
    "<h4 align=\"justify\" >La Vista, o interfaz de usuario, que compone la información que se envía al cliente y los mecanismos interacción con éste.\n",
    "</h4>\n",
    "\n",
    "<h4 align=\"justify\" >El Controlador, que actúa como intermediario entre el Modelo y la Vista, gestionando el flujo de información entre ellos y las transformaciones para adaptar los datos a las necesidades de cada uno.\n",
    "</h4>"
   ]
  },
  {
   "cell_type": "markdown",
   "metadata": {},
   "source": [
    "<h2 align=\"rigth\" >Desarrollo -> </h2>"
   ]
  },
  {
   "cell_type": "markdown",
   "metadata": {},
   "source": [
    "<h2 align=\"rigth\" >El modelo es el responsable de:</h2>"
   ]
  },
  {
   "cell_type": "markdown",
   "metadata": {},
   "source": [
    "<h4 align=\"justify\" >Acceder a la capa de almacenamiento de datos. Lo ideal es que el modelo sea independiente del sistema de almacenamiento.\n",
    "</h4>\n",
    "\n",
    "<h4 align=\"justify\" >Define las reglas de negocio (la funcionalidad del sistema). Un ejemplo de regla puede ser: \"Si la mercancía pedida no está en el almacén, consultar el tiempo de entrega estándar del proveedor\".\n",
    "</h4>\n",
    "\n",
    "<h4 align=\"justify\" >Lleva un registro de las vistas y controladores del sistema.\n",
    "</h4>\n",
    "\n",
    "<h4 align=\"justify\" >Si estamos ante un modelo activo, notificará a las vistas los cambios que en los datos pueda producir un agente externo (por ejemplo, un fichero por lotes  que actualiza los datos, un temporizador que desencadena una inserción, etc.)..\n",
    "</h4>"
   ]
  },
  {
   "cell_type": "markdown",
   "metadata": {},
   "source": [
    "<h2 align=\"rigth\" >El controlador es responsable de:</h2>"
   ]
  },
  {
   "cell_type": "markdown",
   "metadata": {},
   "source": [
    "<h4 align=\"justify\" >Recibe los eventos de entrada (un clic, un cambio en un campo de texto, etc.).\n",
    "</h4>\n",
    "\n",
    "<h4 align=\"justify\" >Contiene reglas de gestión de eventos, del tipo \"SI Evento Z, entonces Acción W\". Estas acciones pueden suponer peticiones al modelo o a las vistas. Una de estas peticiones a las vistas puede ser una llamada al método \"Actualizar()\". Una petición al modelo puede ser \"Obtener_tiempo_de_entrega ( nueva_orden_de_venta )\". \n",
    "</h4>\n",
    "\n",
    "\n"
   ]
  },
  {
   "cell_type": "markdown",
   "metadata": {},
   "source": [
    "<h2 align=\"rigth\" >Las vistas son responsables de:</h2>"
   ]
  },
  {
   "cell_type": "markdown",
   "metadata": {},
   "source": [
    "<h4 align=\"justify\" >Recibir datos del modelo y los muestra al usuario.\n",
    "</h4>\n",
    "\n",
    "<h4 align=\"justify\" >Tienen un registro de su controlador asociado (normalmente porque además lo instancia).\n",
    "</h4>\n",
    "\n",
    "<h4 align=\"justify\" >Pueden dar el servicio de \"Actualización()\", para que sea invocado por el controlador o por el modelo (cuando es un modelo activo que informa de los cambios en los datos producidos por otros agentes).\n",
    "</h4>"
   ]
  },
  {
   "cell_type": "markdown",
   "metadata": {},
   "source": [
    "<h2 align=\"rigth\" >El flujo que sigue el control generalmente es el siguiente:</h2>"
   ]
  },
  {
   "cell_type": "markdown",
   "metadata": {},
   "source": [
    "<img src=\"flujo-mvc.png\" style=\"width:500px;height:500px;\"/>"
   ]
  },
  {
   "cell_type": "markdown",
   "metadata": {},
   "source": [
    "<h4 align=\"justify\" >El usuario interactúa con la interfaz de usuario de alguna forma (por ejemplo, el usuario pulsa un botón, enlace, etc.)\n",
    "</h4>\n",
    "\n",
    "<h4 align=\"justify\" >El controlador recibe (por parte de los objetos de la interfaz-vista) la notificación de la acción solicitada por el usuario. El controlador gestiona el evento que llega, frecuentemente a través de un gestor de eventos (handler) o callback.\n",
    "</h4>\n",
    "\n",
    "<h4 align=\"justify\" >El controlador accede al modelo, actualizándolo, posiblemente modificándolo de forma adecuada a la acción solicitada por el usuario (por ejemplo, el controlador actualiza el carro de la compra del usuario). Los controladores complejos están a menudo estructurados usando un patrón de comando que encapsula las acciones y simplifica su extensión.\n",
    "</h4>\n",
    "<h4 align=\"justify\" >El controlador delega a los objetos de la vista la tarea de desplegar la interfaz de usuario. La vista obtiene sus datos del modelo para generar la interfaz apropiada para el usuario donde se refleja los cambios en el modelo (por ejemplo, produce un listado del contenido del carro de la compra). El modelo no debe tener conocimiento directo sobre la vista. Sin embargo, se podría utilizar el patrón Observador para proveer cierta indirección entre el modelo y la vista, permitiendo al modelo notificar a los interesados de cualquier cambio. Un objeto vista puede registrarse con el modelo y esperar a los cambios, pero aun así el modelo en sí mismo sigue sin saber nada de la vista. El controlador no pasa objetos de dominio (el modelo) a la vista aunque puede dar la orden a la vista para que se actualice. \n",
    "</h4>\n",
    "<h4 align=\"justify\" >El controlador accede al modelo, actualizándolo, posiblemente modificándolo de forma adecuada a la acción solicitada por el usuario (por ejemplo, el controlador actualiza el carro de la compra del usuario). Los controladores complejos están a menudo estructurados usando un patrón de comando que encapsula las acciones y simplifica su extensión.\n",
    "</h4>\n",
    "<h4 align=\"justify\" >La interfaz de usuario espera nuevas interacciones del usuario, comenzando el ciclo nuevamente.\n",
    "</h4>"
   ]
  },
  {
   "cell_type": "markdown",
   "metadata": {},
   "source": [
    "<h2 align=\"rigth\" >Ejemplo </h2>"
   ]
  },
  {
   "cell_type": "code",
   "execution_count": null,
   "metadata": {},
   "outputs": [],
   "source": [
    "class controller:\n",
    "    def __init__(self,model,view):\n",
    "        self.model = model()\n",
    "        self.view = view()\n",
    "        self.view.setController(self)\n",
    "        \n",
    "    def start(self):\n",
    "        self.view.start()\n",
    "        \n",
    "    def add(self, name, age):\n",
    "        self.model.add(name, age)\n",
    "        \n",
    "    def get(self):\n",
    "        return self.model.get()\n",
    "    \n",
    "    def update(self, name, age, index):\n",
    "        self.model"
   ]
  },
  {
   "cell_type": "code",
   "execution_count": null,
   "metadata": {},
   "outputs": [],
   "source": [
    "class model:\n",
    "    def __init__(self):\n",
    "        self.data = []\n",
    "\n",
    "        \n",
    "        \n",
    "    def add(self, name, age):\n",
    "        self.data.append({'name': name, 'age': age})"
   ]
  },
  {
   "cell_type": "code",
   "execution_count": null,
   "metadata": {},
   "outputs": [],
   "source": [
    "class view:\n",
    "    def __init__(self):\n",
    "        self.controller = None\n",
    "        \n",
    "    def setController(self, controller):\n",
    "        self.controller = controller\n",
    "        \n",
    "    def start(self):\n",
    "        while True:\n",
    "            print('1. Add')\n",
    "            print('2. Get')\n",
    "            print('3. Update')\n",
    "            print('4. Delete')\n",
    "            print('5. Exit')\n",
    "            option = input('Select an option: ')\n",
    "            if option == '1':\n",
    "                name = input('Name: ')\n",
    "                age = input('Age: ')\n",
    "                self.controller.add(name, age)\n",
    "            elif option == '2':\n",
    "                print(self.controller.get())\n",
    "            elif option == '5':\n",
    "                break"
   ]
  },
  {
   "cell_type": "code",
   "execution_count": 5,
   "metadata": {},
   "outputs": [],
   "source": [
    "if __name__ == \"__main__\":\n",
    "    c = controller(model, view)\n",
    "    c.start()"
   ]
  },
  {
   "cell_type": "markdown",
   "metadata": {},
   "source": [
    "<h2 align=\"rigth\" >Conclusion </h2>"
   ]
  },
  {
   "cell_type": "markdown",
   "metadata": {},
   "source": [
    "<h4 align=\"justify\"> Con base el desarrollo de la actividad previal, se pudo concluir lo siguiente: El uso de estos patrones como sistemas ORM para el trabajo del accceso y manejo de base de datos es muy util, ya que nos permite acceder a todos los beneficios de trabajar con un sistema orientado a objetos, ademas de que gracias a esto nos permiten desarrollar sistemas mas flexibles y complejos</h4>"
   ]
  }
 ],
 "metadata": {
  "kernelspec": {
   "display_name": "Python 3.9.10 64-bit",
   "language": "python",
   "name": "python3"
  },
  "language_info": {
   "codemirror_mode": {
    "name": "ipython",
    "version": 3
   },
   "file_extension": ".py",
   "mimetype": "text/x-python",
   "name": "python",
   "nbconvert_exporter": "python",
   "pygments_lexer": "ipython3",
   "version": "3.9.10"
  },
  "orig_nbformat": 4,
  "vscode": {
   "interpreter": {
    "hash": "aee5161b8d3706f136b414f83d25d87cb7ee38bd6b696120dcc0cd5f5b73368c"
   }
  }
 },
 "nbformat": 4,
 "nbformat_minor": 2
}
