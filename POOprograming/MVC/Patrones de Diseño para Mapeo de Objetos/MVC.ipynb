{
 "cells": [
  {
   "cell_type": "markdown",
   "metadata": {},
   "source": [
    "<div style=\"display:flex;flex-direction:row;justify-content: space-evenly;\">\n",
    "<img src=\"tec.png\" style=\"width:320px;height:197px;\"/>\n",
    "<img src=\"itcolima.svg\" style=\"width:197px\"/>\n",
    "</div>\n",
    "<div style=\"display:flex;flex-direction:column;gap:20px;text-align:center\"></div>\n",
    "\n",
    "<h1 align=\"center\">Tecnológico Nacional de México\n",
    "campus Colima</h1>\n",
    "<h2 align=\"center\">Maestría en Sistemas\n",
    "Computacionales</h2><br></br>\n",
    "<h3 align=\"center\">Patrones de Diseño para Mapeo de Objetos: Data Mapper  y  Unit of Work </h3>\n",
    "<h3 align=\"center\">Investigacion: Mapeo de Objetos</h3><br></br>\n",
    "<h4 align=\"center\">Docente:</h4>\n",
    "<h4 align=\"center\">D. en C. Patricia Figueroa Millan </h4><br></br>\n",
    "<h4 align=\"center\">Autor:</h4>\n",
    "<h4 align=\"center\">Ing. Gilberto Rene Martinez Gutierrez G2146013</h4>\n",
    "<br></br>\n",
    "<h4 align=\"center\"></h4>\n",
    "<h4 align=\"center\">Villa de Álvarez, Colima, México</h4>\n",
    "<h4 align=\"center\">24 de noviembre de 2022</h4>"
   ]
  },
  {
   "cell_type": "markdown",
   "metadata": {},
   "source": [
    "<h2 align=\"rigth\" >Resumen</h2>"
   ]
  },
  {
   "cell_type": "markdown",
   "metadata": {},
   "source": [
    "<h4 align=\"justify\" >La actividad consisten en la documentacion e implementacion del patron de diseño MVC(modelo, vista, controlador)</h4>"
   ]
  },
  {
   "cell_type": "markdown",
   "metadata": {},
   "source": [
    "<h2 align=\"rigth\" >Introducción</h2>\n"
   ]
  },
  {
   "cell_type": "markdown",
   "metadata": {},
   "source": [
    "<h4 align=\"justify\" >Modelo Vista Controlador (MVC) es un estilo de arquitectura de software que separa los datos de una aplicación, la interfaz de usuario, y la lógica de control en tres componentes distintos. Se trata de un modelo muy maduro y que ha demostrado su validez a lo largo de los años en todo tipo de aplicaciones, y sobre multitud de lenguajes y plataformas de desarrollo.\n",
    "\n",
    "</h4>\n",
    "\n",
    "<h4 align=\"justify\" >El Modelo que contiene una representación de los datos que maneja el sistema, su lógica de negocio, y sus mecanismos de persistencia.\n",
    "</h4>\n",
    "\n",
    "<h4 align=\"justify\" >La Vista, o interfaz de usuario, que compone la información que se envía al cliente y los mecanismos interacción con éste.\n",
    "</h4>\n",
    "\n",
    "<h4 align=\"justify\" >El Controlador, que actúa como intermediario entre el Modelo y la Vista, gestionando el flujo de información entre ellos y las transformaciones para adaptar los datos a las necesidades de cada uno.\n",
    "</h4>"
   ]
  },
  {
   "cell_type": "markdown",
   "metadata": {},
   "source": [
    "<h2 align=\"rigth\" >Desarrollo -> </h2>"
   ]
  },
  {
   "cell_type": "markdown",
   "metadata": {},
   "source": [
    "<h2 align=\"rigth\" >El modelo es el responsable de:</h2>"
   ]
  },
  {
   "cell_type": "markdown",
   "metadata": {},
   "source": [
    "<h4 align=\"justify\" >Acceder a la capa de almacenamiento de datos. Lo ideal es que el modelo sea independiente del sistema de almacenamiento.\n",
    "</h4>\n",
    "\n",
    "<h4 align=\"justify\" >Define las reglas de negocio (la funcionalidad del sistema). Un ejemplo de regla puede ser: \"Si la mercancía pedida no está en el almacén, consultar el tiempo de entrega estándar del proveedor\".\n",
    "</h4>\n",
    "\n",
    "<h4 align=\"justify\" >Lleva un registro de las vistas y controladores del sistema.\n",
    "</h4>\n",
    "\n",
    "<h4 align=\"justify\" >Si estamos ante un modelo activo, notificará a las vistas los cambios que en los datos pueda producir un agente externo (por ejemplo, un fichero por lotes  que actualiza los datos, un temporizador que desencadena una inserción, etc.)..\n",
    "</h4>"
   ]
  },
  {
   "cell_type": "markdown",
   "metadata": {},
   "source": [
    "<h2 align=\"rigth\" >El controlador es responsable de:</h2>"
   ]
  },
  {
   "cell_type": "markdown",
   "metadata": {},
   "source": [
    "<h4 align=\"justify\" >Recibe los eventos de entrada (un clic, un cambio en un campo de texto, etc.).\n",
    "</h4>\n",
    "\n",
    "<h4 align=\"justify\" >Contiene reglas de gestión de eventos, del tipo \"SI Evento Z, entonces Acción W\". Estas acciones pueden suponer peticiones al modelo o a las vistas. Una de estas peticiones a las vistas puede ser una llamada al método \"Actualizar()\". Una petición al modelo puede ser \"Obtener_tiempo_de_entrega ( nueva_orden_de_venta )\". \n",
    "</h4>\n",
    "\n",
    "\n"
   ]
  },
  {
   "cell_type": "markdown",
   "metadata": {},
   "source": [
    "<h2 align=\"rigth\" >Las vistas son responsables de:</h2>"
   ]
  },
  {
   "cell_type": "markdown",
   "metadata": {},
   "source": [
    "<h4 align=\"justify\" >Recibir datos del modelo y los muestra al usuario.\n",
    "</h4>\n",
    "\n",
    "<h4 align=\"justify\" >Tienen un registro de su controlador asociado (normalmente porque además lo instancia).\n",
    "</h4>\n",
    "\n",
    "<h4 align=\"justify\" >Pueden dar el servicio de \"Actualización()\", para que sea invocado por el controlador o por el modelo (cuando es un modelo activo que informa de los cambios en los datos producidos por otros agentes).\n",
    "</h4>"
   ]
  },
  {
   "cell_type": "markdown",
   "metadata": {},
   "source": [
    "<h2 align=\"rigth\" >El flujo que sigue el control generalmente es el siguiente:</h2>"
   ]
  },
  {
   "cell_type": "markdown",
   "metadata": {},
   "source": [
    "<img src=\"flujo-mvc.png\" style=\"width:500px;height:500px;\"/>"
   ]
  },
  {
   "cell_type": "markdown",
   "metadata": {},
   "source": [
    "<h4 align=\"justify\" >El usuario interactúa con la interfaz de usuario de alguna forma (por ejemplo, el usuario pulsa un botón, enlace, etc.)\n",
    "</h4>\n",
    "\n",
    "<h4 align=\"justify\" >El controlador recibe (por parte de los objetos de la interfaz-vista) la notificación de la acción solicitada por el usuario. El controlador gestiona el evento que llega, frecuentemente a través de un gestor de eventos (handler) o callback.\n",
    "</h4>\n",
    "\n",
    "<h4 align=\"justify\" >El controlador accede al modelo, actualizándolo, posiblemente modificándolo de forma adecuada a la acción solicitada por el usuario (por ejemplo, el controlador actualiza el carro de la compra del usuario). Los controladores complejos están a menudo estructurados usando un patrón de comando que encapsula las acciones y simplifica su extensión.\n",
    "</h4>\n",
    "<h4 align=\"justify\" >El controlador delega a los objetos de la vista la tarea de desplegar la interfaz de usuario. La vista obtiene sus datos del modelo para generar la interfaz apropiada para el usuario donde se refleja los cambios en el modelo (por ejemplo, produce un listado del contenido del carro de la compra). El modelo no debe tener conocimiento directo sobre la vista. Sin embargo, se podría utilizar el patrón Observador para proveer cierta indirección entre el modelo y la vista, permitiendo al modelo notificar a los interesados de cualquier cambio. Un objeto vista puede registrarse con el modelo y esperar a los cambios, pero aun así el modelo en sí mismo sigue sin saber nada de la vista. El controlador no pasa objetos de dominio (el modelo) a la vista aunque puede dar la orden a la vista para que se actualice. \n",
    "</h4>\n",
    "<h4 align=\"justify\" >El controlador accede al modelo, actualizándolo, posiblemente modificándolo de forma adecuada a la acción solicitada por el usuario (por ejemplo, el controlador actualiza el carro de la compra del usuario). Los controladores complejos están a menudo estructurados usando un patrón de comando que encapsula las acciones y simplifica su extensión.\n",
    "</h4>\n",
    "<h4 align=\"justify\" >La interfaz de usuario espera nuevas interacciones del usuario, comenzando el ciclo nuevamente.\n",
    "</h4>"
   ]
  },
  {
   "cell_type": "markdown",
   "metadata": {},
   "source": [
    "<h2 align=\"rigth\" >Ejemplo </h2>"
   ]
  },
  {
   "cell_type": "code",
   "execution_count": 4,
   "metadata": {},
   "outputs": [],
   "source": [
    "# mvc_exceptions.py\n",
    "class ItemAlreadyStored(Exception):\n",
    "    pass\n",
    "\n",
    "\n",
    "class ItemNotStored(Exception):\n",
    "    pass"
   ]
  },
  {
   "cell_type": "code",
   "execution_count": 5,
   "metadata": {},
   "outputs": [],
   "source": [
    "# model_view_controller.py\n",
    "import basic_backend\n",
    "import mvc_exceptions as mvc_exc\n",
    "\n",
    "\n",
    "class ModelBasic(object):\n",
    "\n",
    "    def __init__(self, application_items):\n",
    "        self._item_type = 'product'\n",
    "        self.create_items(application_items)\n",
    "\n",
    "    @property\n",
    "    def item_type(self):\n",
    "        return self._item_type\n",
    "\n",
    "    @item_type.setter\n",
    "    def item_type(self, new_item_type):\n",
    "        self._item_type = new_item_type\n",
    "\n",
    "    def create_item(self, name, price, quantity):\n",
    "        basic_backend.create_item(name, price, quantity)\n",
    "\n",
    "    def create_items(self, items):\n",
    "        basic_backend.create_items(items)\n",
    "\n",
    "    def read_item(self, name):\n",
    "        return basic_backend.read_item(name)\n",
    "\n",
    "    def read_items(self):\n",
    "        return basic_backend.read_items()\n",
    "\n",
    "    def update_item(self, name, price, quantity):\n",
    "        basic_backend.update_item(name, price, quantity)\n",
    "\n",
    "    def delete_item(self, name):\n",
    "        basic_backend.delete_item(name)"
   ]
  },
  {
   "cell_type": "code",
   "execution_count": 6,
   "metadata": {},
   "outputs": [],
   "source": [
    "# model_view_controller.py\n",
    "class View(object):\n",
    "\n",
    "    @staticmethod\n",
    "    def show_bullet_point_list(item_type, items):\n",
    "        print('--- {} LIST ---'.format(item_type.upper()))\n",
    "        for item in items:\n",
    "            print('* {}'.format(item))\n",
    "\n",
    "    @staticmethod\n",
    "    def show_number_point_list(item_type, items):\n",
    "        print('--- {} LIST ---'.format(item_type.upper()))\n",
    "        for i, item in enumerate(items):\n",
    "            print('{}. {}'.format(i+1, item))\n",
    "\n",
    "    @staticmethod\n",
    "    def show_item(item_type, item, item_info):\n",
    "        print('//////////////////////////////////////////////////////////////')\n",
    "        print('Good news, we have some {}!'.format(item.upper()))\n",
    "        print('{} INFO: {}'.format(item_type.upper(), item_info))\n",
    "        print('//////////////////////////////////////////////////////////////')\n",
    "\n",
    "    @staticmethod\n",
    "    def display_missing_item_error(item, err):\n",
    "        print('**************************************************************')\n",
    "        print('We are sorry, we have no {}!'.format(item.upper()))\n",
    "        print('{}'.format(err.args[0]))\n",
    "        print('**************************************************************')\n",
    "\n",
    "    @staticmethod\n",
    "    def display_item_already_stored_error(item, item_type, err):\n",
    "        print('**************************************************************')\n",
    "        print('Hey! We already have {} in our {} list!'\n",
    "              .format(item.upper(), item_type))\n",
    "        print('{}'.format(err.args[0]))\n",
    "        print('**************************************************************')\n",
    "\n",
    "    @staticmethod\n",
    "    def display_item_not_yet_stored_error(item, item_type, err):\n",
    "        print('**************************************************************')\n",
    "        print('We don\\'t have any {} in our {} list. Please insert it first!'\n",
    "              .format(item.upper(), item_type))\n",
    "        print('{}'.format(err.args[0]))\n",
    "        print('**************************************************************')\n",
    "\n",
    "    @staticmethod\n",
    "    def display_item_stored(item, item_type):\n",
    "        print('++++++++++++++++++++++++++++++++++++++++++++++++++++++++++++++')\n",
    "        print('Hooray! We have just added some {} to our {} list!'\n",
    "              .format(item.upper(), item_type))\n",
    "        print('++++++++++++++++++++++++++++++++++++++++++++++++++++++++++++++')\n",
    "\n",
    "    @staticmethod\n",
    "    def display_change_item_type(older, newer):\n",
    "        print('---   ---   ---   ---   ---   ---   ---   ---   ---   ---   --')\n",
    "        print('Change item type from \"{}\" to \"{}\"'.format(older, newer))\n",
    "        print('---   ---   ---   ---   ---   ---   ---   ---   ---   ---   --')\n",
    "\n",
    "    @staticmethod\n",
    "    def display_item_updated(item, o_price, o_quantity, n_price, n_quantity):\n",
    "        print('---   ---   ---   ---   ---   ---   ---   ---   ---   ---   --')\n",
    "        print('Change {} price: {} --> {}'\n",
    "              .format(item, o_price, n_price))\n",
    "        print('Change {} quantity: {} --> {}'\n",
    "              .format(item, o_quantity, n_quantity))\n",
    "        print('---   ---   ---   ---   ---   ---   ---   ---   ---   ---   --')\n",
    "\n",
    "    @staticmethod\n",
    "    def display_item_deletion(name):\n",
    "        print('--------------------------------------------------------------')\n",
    "        print('We have just removed {} from our list'.format(name))\n",
    "        print('--------------------------------------------------------------')\n",
    "\n"
   ]
  },
  {
   "cell_type": "code",
   "execution_count": 7,
   "metadata": {},
   "outputs": [],
   "source": [
    "# model_view_controller.py\n",
    "import mvc_exceptions as mvc_exc\n",
    "class Controller(object):\n",
    "\n",
    "    def __init__(self, model, view):\n",
    "        self.model = model\n",
    "        self.view = view\n",
    "\n",
    "    def show_items(self, bullet_points=False):\n",
    "        items = self.model.read_items()\n",
    "        item_type = self.model.item_type\n",
    "        if bullet_points:\n",
    "            self.view.show_bullet_point_list(item_type, items)\n",
    "        else:\n",
    "            self.view.show_number_point_list(item_type, items)\n",
    "\n",
    "    def show_item(self, item_name):\n",
    "        try:\n",
    "            item = self.model.read_item(item_name)\n",
    "            item_type = self.model.item_type\n",
    "            self.view.show_item(item_type, item_name, item)\n",
    "        except mvc_exc.ItemNotStored as e:\n",
    "            self.view.display_missing_item_error(item_name, e)\n",
    "\n",
    "    def insert_item(self, name, price, quantity):\n",
    "        assert price > 0, 'price must be greater than 0'\n",
    "        assert quantity >= 0, 'quantity must be greater than or equal to 0'\n",
    "        item_type = self.model.item_type\n",
    "        try:\n",
    "            self.model.create_item(name, price, quantity)\n",
    "            self.view.display_item_stored(name, item_type)\n",
    "        except mvc_exc.ItemAlreadyStored as e:\n",
    "            self.view.display_item_already_stored_error(name, item_type, e)\n",
    "\n",
    "    def update_item(self, name, price, quantity):\n",
    "        assert price > 0, 'price must be greater than 0'\n",
    "        assert quantity >= 0, 'quantity must be greater than or equal to 0'\n",
    "        item_type = self.model.item_type\n",
    "\n",
    "        try:\n",
    "            older = self.model.read_item(name)\n",
    "            self.model.update_item(name, price, quantity)\n",
    "            self.view.display_item_updated(\n",
    "                name, older['price'], older['quantity'], price, quantity)\n",
    "        except mvc_exc.ItemNotStored as e:\n",
    "            self.view.display_item_not_yet_stored_error(name, item_type, e)\n",
    "            # if the item is not yet stored and we performed an update, we have\n",
    "            # 2 options: do nothing or call insert_item to add it.\n",
    "            # self.insert_item(name, price, quantity)\n",
    "\n",
    "    def update_item_type(self, new_item_type):\n",
    "        old_item_type = self.model.item_type\n",
    "        self.model.item_type = new_item_type\n",
    "        self.view.display_change_item_type(old_item_type, new_item_type)\n",
    "\n",
    "    def delete_item(self, name):\n",
    "        item_type = self.model.item_type\n",
    "        try:\n",
    "            self.model.delete_item(name)\n",
    "            self.view.display_item_deletion(name)\n",
    "        except mvc_exc.ItemNotStored as e:\n",
    "            self.view.display_item_not_yet_stored_error(name, item_type, e)"
   ]
  },
  {
   "cell_type": "code",
   "execution_count": 8,
   "metadata": {},
   "outputs": [
    {
     "name": "stdout",
     "output_type": "stream",
     "text": [
      "++++++++++++++++++++++++++++++++++++++++++++++++++++++++++++++\n",
      "Hooray! We have just added some WATER to our product list!\n",
      "++++++++++++++++++++++++++++++++++++++++++++++++++++++++++++++\n",
      "--- PRODUCT LIST ---\n",
      "1. {'name': 'bread', 'price': 0.5, 'quantity': 20}\n",
      "2. {'name': 'milk', 'price': 1.0, 'quantity': 10}\n",
      "3. {'name': 'wine', 'price': 10.0, 'quantity': 5}\n",
      "4. {'name': 'water', 'price': 5, 'quantity': 6}\n"
     ]
    }
   ],
   "source": [
    "#model_view_controller.py\n",
    "\n",
    "from model import ModelBasic\n",
    "from controller import Controller\n",
    "from view import View\n",
    "my_items = [\n",
    "    {'name': 'bread', 'price': 0.5, 'quantity': 20},\n",
    "    {'name': 'milk', 'price': 1.0, 'quantity': 10},\n",
    "    {'name': 'wine', 'price': 10.0, 'quantity': 5},\n",
    "]\n",
    "\n",
    "c = Controller(ModelBasic(my_items), View())\n",
    "\n",
    "c.insert_item('water', 5, 6)\n",
    "\n",
    "c.show_items()"
   ]
  },
  {
   "cell_type": "markdown",
   "metadata": {},
   "source": [
    "<h2 align=\"rigth\" >Conclusion </h2>"
   ]
  },
  {
   "cell_type": "markdown",
   "metadata": {},
   "source": [
    "<h4 align=\"justify\"> Con base el desarrollo de la actividad previal, se pudo concluir lo siguiente: El uso de estos patrones como lo es el MVC es muy util, nos permite desarrollar de manera mas controlada sistemas que necesiten interfaz de usuario asi como acceso a bases de datos para el acceso y modificacion de de registros, ademas de que gracias a esto nos permiten desarrollar sistemas mas flexibles y complejos</h4>"
   ]
  }
 ],
 "metadata": {
  "kernelspec": {
   "display_name": "Python 3.9.13 64-bit (windows store)",
   "language": "python",
   "name": "python3"
  },
  "language_info": {
   "codemirror_mode": {
    "name": "ipython",
    "version": 3
   },
   "file_extension": ".py",
   "mimetype": "text/x-python",
   "name": "python",
   "nbconvert_exporter": "python",
   "pygments_lexer": "ipython3",
   "version": "3.9.13"
  },
  "orig_nbformat": 4,
  "vscode": {
   "interpreter": {
    "hash": "e584bf9341a62b8a3da68642bc9f7bba01f22f5f3f07d96326eb029e48e4c97a"
   }
  }
 },
 "nbformat": 4,
 "nbformat_minor": 2
}
