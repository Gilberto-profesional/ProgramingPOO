{
 "cells": [
  {
   "cell_type": "markdown",
   "metadata": {},
   "source": [
    "<div style=\"display:flex;flex-direction:row;justify-content: space-evenly;\">\n",
    "<img src=\"tec.png\" style=\"width:320px;height:197px;\"/>\n",
    "<img src=\"itcolima.svg\" style=\"width:197px\"/>\n",
    "</div>\n",
    "<div style=\"display:flex;flex-direction:column;gap:20px;text-align:center\"></div>\n",
    "\n",
    "<h1 align=\"center\">Tecnológico Nacional de México\n",
    "campus Colima</h1>\n",
    "<h2 align=\"center\">Maestría en Sistemas\n",
    "Computacionales</h2><br></br>\n",
    "<h3 align=\"center\">Primitivas de Sincronización</h3>\n",
    "<h3 align=\"center\">Ejercicio Práctico:Primitivas de Sincronización</h3><br></br>\n",
    "<h4 align=\"center\">Docente:</h4>\n",
    "<h4 align=\"center\">D. en C. Patricia Figueroa Millan </h4><br></br>\n",
    "<h4 align=\"center\">Autor:</h4>\n",
    "<h4 align=\"center\">Ing. Gilberto Rene Martinez Gutierrez G2146013</h4><br></br>\n",
    "<h4 align=\"center\"></h4>\n",
    "<h4 align=\"center\">Villa de Álvarez, Colima, México</h4>\n",
    "<h4 align=\"center\">08 de noviembre de 2022</h4>"
   ]
  },
  {
   "cell_type": "markdown",
   "metadata": {},
   "source": [
    "<h2 align=\"rigth\" >Objetivo</h2>\n",
    "\n",
    "<h4 align=\"rigth\" >Desarrollar un ejercicio sobre los usos e implementacion de modulo Queue</h4>"
   ]
  },
  {
   "cell_type": "markdown",
   "metadata": {},
   "source": [
    "<h2 align=\"rigth\" >Metodologia</h2>\n",
    "<h4 align=\"justify\" >Para la resolucion del problema se realizo un analisis previo sobre el funcionamiento del modulo queue donde se recurrio a la investigacion en metodo especiales, el contenido de este material facilito el entendimiento, ademas de permitir analisar unos ejemplos de su funcionamiento </h4>"
   ]
  },
  {
   "cell_type": "markdown",
   "metadata": {},
   "source": [
    "<h2 align=\"rigth\" >Colas con el módulo queue </h2>\n",
    "\n",
    "<h4 align=\"rigth\" >El módulo estándar Queue o queue permite crear y trabajar con colas de manera sencilla. Es generalmente utilizado en programas multi-hilo, ya que provee una forma de intercambiar información entre threads de manera segura.\n",
    "\n",
    "\n",
    "Implementa tres tipos de colas, que difieren únicamente en el orden en que se retornan los ítems:\n",
    "\n",
    "FIFO (primero en entrar primero en salir, del inglés «First In First Out»): el primer ítem que es añadido a la lista es el primero en ser retornado.\n",
    "LIFO (último en entrar primero en salir, del inglés «Last In First Out»): el último ítem que es añadido a la lista es el primero en ser retornado.\n",
    "Priority Queue (cola de prioridad): el ítem de menor valor es el primero en ser retornado. </h4>"
   ]
  },
  {
   "cell_type": "code",
   "execution_count": null,
   "metadata": {},
   "outputs": [],
   "source": [
    "import threading\n",
    "import queue\n",
    "from time import sleep\n",
    "import logging\n",
    "\n",
    "logging.basicConfig(\n",
    "    level=logging.DEBUG,\n",
    "    format='%(asctime)s (%(threadName)-2s) %(message)s',\n",
    ")\n",
    "\n",
    "# Método que se ejecutará en el hilo \n",
    "def worker():\n",
    "    while True: # Ciclo infinito \n",
    "        item = q.get()\n",
    "        logging.debug(f'{item} procesado')\n",
    "        q.task_done()\n",
    "\n",
    "q = queue.PriorityQueue()\n",
    "\n",
    "# Enviar elementos a la cola\n",
    "for item in range(65, 91):\n",
    "    priority = 10 # Prioridad predeterminada\n",
    "\n",
    "    # Sólo las vocales tendrán prioridad\n",
    "    if item in [70,75,80,85,90]:\n",
    "        priority = 1\n",
    "\n",
    "    q.put((priority,item)) # Tupla con prioridad y elemento\n",
    "\n",
    "# Iniciar hilos trabajadores\n",
    "for i in range(5):\n",
    "    threading.Thread(target=worker,daemon=True,name=\"hilo \" + str(i)).start()\n",
    "\n",
    "# Esperar a que todas las tareas se hayan completado\n",
    "q.join()\n",
    "\n",
    "print('All work completed')"
   ]
  },
  {
   "cell_type": "markdown",
   "metadata": {},
   "source": [
    "<h2 align=\"rigth\" >Conclusiones</h2>\n",
    "\n",
    "<h4 align=\"justify\" >Gracias al desarrolo de esta actividad se logro comprender el funcionamiento del modulo queue, a traves de este se comprendio la estructura con la cual se deben diseñar sistemas multihilo</h4>"
   ]
  }
 ],
 "metadata": {
  "kernelspec": {
   "display_name": "Python 3.9.10 64-bit",
   "language": "python",
   "name": "python3"
  },
  "language_info": {
   "codemirror_mode": {
    "name": "ipython",
    "version": 3
   },
   "file_extension": ".py",
   "mimetype": "text/x-python",
   "name": "python",
   "nbconvert_exporter": "python",
   "pygments_lexer": "ipython3",
   "version": "3.9.10"
  },
  "orig_nbformat": 4,
  "vscode": {
   "interpreter": {
    "hash": "aee5161b8d3706f136b414f83d25d87cb7ee38bd6b696120dcc0cd5f5b73368c"
   }
  }
 },
 "nbformat": 4,
 "nbformat_minor": 2
}
