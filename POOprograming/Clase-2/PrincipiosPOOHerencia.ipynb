{
 "cells": [
  {
   "cell_type": "markdown",
   "metadata": {},
   "source": [
    "<h2 align=\"rigth\">Herencia multiple</h2>\n"
   ]
  },
  {
   "cell_type": "code",
   "execution_count": 12,
   "metadata": {},
   "outputs": [
    {
     "name": "stdout",
     "output_type": "stream",
     "text": [
      "Inside company_info\n",
      " Name:  Google  Location:  Atlanta\n",
      "Inside employee class\n",
      " Salary:  12000  Skill:  Machine Learning\n",
      "Class padre\n",
      "Class padre2\n"
     ]
    }
   ],
   "source": [
    "# Creacion de herencia simple de clase\n",
    "\n",
    "# Definimos una clase padre\n",
    "class Person:\n",
    "    def __init__(self):\n",
    "        pass\n",
    "    def personal_info(self,name,age):\n",
    "        self.name = name\n",
    "        self.age = age\n",
    "        \n",
    "    def show(self):\n",
    "        print(\"Class padre\")\n",
    "\n",
    "# parent class 2\n",
    "class Company:\n",
    "    def __init__(self):\n",
    "        pass\n",
    "\n",
    "    def Company_info(self,company_name,location):\n",
    "        print(\"Inside company_info\")\n",
    "        print(\" Name: \",company_name,\" Location: \",location)\n",
    "\n",
    "    def show_company(self):\n",
    "        print(\"Class padre2\")\n",
    "\n",
    "# child class\n",
    "class Employee(Person,Company): \n",
    "    def __init__(self):\n",
    "        pass\n",
    "\n",
    "    def Employee_info(self,salary,skill):\n",
    "        print(\"Inside employee class\")\n",
    "        print(\" Salary: \",salary,\" Skill: \",skill)\n",
    "\n",
    "# create objetc of employee class\n",
    "emp = Employee()\n",
    "\n",
    "#access data\n",
    "emp.personal_info(\"Jessa\",28)    \n",
    "emp.Company_info(\"Google\",\"Atlanta\")\n",
    "emp.Employee_info(12000,\"Machine Learning\")\n",
    "emp.show()\n",
    "emp.show_company()\n"
   ]
  },
  {
   "cell_type": "markdown",
   "metadata": {},
   "source": [
    "<h2 align=\"rigth\">Herencia multinivel  </h2>"
   ]
  },
  {
   "cell_type": "code",
   "execution_count": 13,
   "metadata": {},
   "outputs": [
    {
     "name": "stdout",
     "output_type": "stream",
     "text": [
      "Inside vehiculo_info\n",
      "Inside carro_info\n",
      "Inside sportcar_info\n"
     ]
    }
   ],
   "source": [
    "class vehiculo:\n",
    "    def __init__(self):\n",
    "        pass\n",
    "    def vehiculo_info(self):\n",
    "        print(\"Inside vehiculo_info\")\n",
    "\n",
    "        \n",
    "class carro(vehiculo):\n",
    "    def __init__(self):\n",
    "        pass\n",
    "    def carro_info(self):\n",
    "        print(\"Inside carro_info\")\n",
    "\n",
    "\n",
    "class sportcar(carro):\n",
    "    def __init__(self):\n",
    "        pass\n",
    "    def sportcar_info(self):\n",
    "        print(\"Inside sportcar_info\")\n",
    "\n",
    "# create objetc of sportcar class\n",
    "car = sportcar()\n",
    "\n",
    "#access vehiculo and carro info using sportcar object\n",
    "car.vehiculo_info()\n",
    "car.carro_info()\n",
    "car.sportcar_info()\n",
    "\n",
    "  "
   ]
  },
  {
   "cell_type": "markdown",
   "metadata": {},
   "source": [
    "<h2 align=\"rigth\">Herencia jeraquica </h2>"
   ]
  },
  {
   "cell_type": "code",
   "execution_count": null,
   "metadata": {},
   "outputs": [],
   "source": [
    "# base class\n",
    "class Vehicle:\n",
    "    def __init__(self):\n",
    "        pass\n",
    "    def Vehicule_info(self):\n",
    "        print(\"This is a vehicle\")\n",
    "class Car(Vehicle):\n",
    "    def __init__(self):\n",
    "        pass\n",
    "    def Car_info(self,name):\n",
    "        print(\"car name is: \",name)\n"
   ]
  }
 ],
 "metadata": {
  "kernelspec": {
   "display_name": "Python 3.9.10 64-bit",
   "language": "python",
   "name": "python3"
  },
  "language_info": {
   "codemirror_mode": {
    "name": "ipython",
    "version": 3
   },
   "file_extension": ".py",
   "mimetype": "text/x-python",
   "name": "python",
   "nbconvert_exporter": "python",
   "pygments_lexer": "ipython3",
   "version": "3.9.10"
  },
  "orig_nbformat": 4,
  "vscode": {
   "interpreter": {
    "hash": "aee5161b8d3706f136b414f83d25d87cb7ee38bd6b696120dcc0cd5f5b73368c"
   }
  }
 },
 "nbformat": 4,
 "nbformat_minor": 2
}
