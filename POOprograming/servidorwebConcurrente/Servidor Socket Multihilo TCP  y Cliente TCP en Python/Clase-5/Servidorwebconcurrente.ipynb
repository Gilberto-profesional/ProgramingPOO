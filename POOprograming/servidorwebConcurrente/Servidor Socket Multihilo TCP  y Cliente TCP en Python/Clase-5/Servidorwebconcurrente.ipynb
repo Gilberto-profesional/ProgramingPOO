{
 "cells": [
  {
   "cell_type": "markdown",
   "metadata": {},
   "source": [
    "<div style=\"display:flex;flex-direction:row;justify-content: space-evenly;\">\n",
    "<img src=\"tec.png\" style=\"width:320px;height:197px;\"/>\n",
    "<img src=\"itcolima.svg\" style=\"width:197px\"/>\n",
    "</div>\n",
    "<div style=\"display:flex;flex-direction:column;gap:20px;text-align:center\"></div>\n",
    "\n",
    "<h1 align=\"center\">Tecnológico Nacional de México\n",
    "campus Colima</h1>\n",
    "<h2 align=\"center\">Maestría en Sistemas\n",
    "Computacionales</h2><br></br>\n",
    "<h3 align=\"center\">Servidor Socket Multihilo TCP  y Cliente TCP en Python</h3>\n",
    "<h3 align=\"center\">Ejercicio Práctico:Servidor Socket Multihilo TCP</h3><br></br>\n",
    "<h4 align=\"center\">Docente:</h4>\n",
    "<h4 align=\"center\">D. en C. Patricia Figueroa Millan </h4><br></br>\n",
    "<h4 align=\"center\">Autor:</h4>\n",
    "<h4 align=\"center\">Ing. Gilberto Rene Martinez Gutierrez G2146013</h4><br></br>\n",
    "<h4 align=\"center\"></h4>\n",
    "<h4 align=\"center\">Villa de Álvarez, Colima, México</h4>\n",
    "<h4 align=\"center\">05 de noviembre de 2022</h4>"
   ]
  },
  {
   "cell_type": "markdown",
   "metadata": {},
   "source": [
    "<h2 align=\"rigth\" >Objetivo</h2>\n",
    "\n",
    "<h4 align=\"rigth\" >Desarrollar un ejercicio sobre los usos e implementacion de un servidor multihilo a traves del uso de tecnologia TCP</h4>"
   ]
  },
  {
   "cell_type": "markdown",
   "metadata": {},
   "source": [
    "<h2 align=\"rigth\" >Metodologia</h2>\n",
    "<h4 align=\"justify\" >Para la resolucion del problema se realizo un analisis previo sobre el funcionamiento de un \"Servidor Socket Multihilo TCP\" donde se recurrio  al portal de recursos python , el contenido de este material facilito el entendimiento , ademas de permitir analizar unos ejemplos de su funcionamiento </h4>"
   ]
  },
  {
   "cell_type": "markdown",
   "metadata": {},
   "source": [
    "<h2 align=\"rigth\" >Servidor TCP Multi-hilo</h2>\n",
    "\n",
    "<h4 align=\"rigth\" >Servidor TCP multihilo o multithreaded para lograr la conexión simultánea de varios clientes. El código hace uso de los módulos estándar threading y socket, escucha peticiones en el puerto 6030 y, ante la llegada de datos, responde con la misma información (Echo server).</h4>"
   ]
  },
  {
   "cell_type": "markdown",
   "metadata": {},
   "source": [
    "<h2 align=\"rigth\" >Ejemplo</h2>"
   ]
  },
  {
   "cell_type": "code",
   "execution_count": 8,
   "metadata": {},
   "outputs": [],
   "source": [
    "import threading\n",
    "\n",
    "import socket\n",
    "import threading\n",
    "import logging\n",
    "from time import sleep\n",
    "\n",
    "# define logging format with date, time, and message\n",
    "logging.basicConfig(\n",
    "    format='(%(threadName)-10s) %(asctime)s %(message)s', level=logging.DEBUG)\n",
    "\n",
    "\n",
    "def client_handler(conn, addr):\n",
    "    \"\"\" Handle client connection \"\"\"\n",
    "    # log the connection\n",
    "    logging.debug('Connected by ' + str(addr))\n",
    "\n",
    "    # create\n",
    "    try:\n",
    "        # read index.html\n",
    "        with open('index.html', 'r') as f:\n",
    "            file_data = f.read()\n",
    "            f.close()\n",
    "        \n",
    "        # send http response header\n",
    "        conn.send(b'HTTP/1.0 200 OK\\r\\n')\n",
    "        conn.send(b'Content-Type: text/html\\n')\n",
    "        conn.send(b'\\n')\n",
    "        # send index.html\n",
    "        conn.send(file_data.encode())\n",
    "        # print closing message\n",
    "        logging.debug('Connection closed by ' + str(addr))\n",
    "        return\n",
    "    finally:\n",
    "        # print closing message\n",
    "        logging.debug('Connection closed by ' + str(addr))\n",
    "        # close connection\n",
    "        conn.close()\n",
    "\n",
    "\n",
    "if __name__ == '_main_':\n",
    "    # create a TCP/IP socket\n",
    "    server = socket.socket(socket.AF_INET, socket.SOCK_STREAM)\n",
    "    # configure socket to reuse address\n",
    "    server.setsockopt(socket.SOL_SOCKET, socket.SO_REUSEADDR, 1)\n",
    "\n",
    "    # define host and port\n",
    "    host = 'localhost'\n",
    "    port = 8080\n",
    "\n",
    "    # bind to the port\n",
    "    server.bind((host, port))\n",
    "\n",
    "    # queue up to 5 requests\n",
    "    server.listen(5)\n",
    "\n",
    "    # log the server start\n",
    "    logging.debug(\"Listening on \" + host + \":\" + str(port))\n",
    "\n",
    "    while True:\n",
    "        # establish a connection\n",
    "        conn, addr = server.accept()\n",
    "\n",
    "        # logging.debug(\"Got a connection from %s\" % str(addr))\n",
    "\n",
    "        # create a thread to handle the client\n",
    "        clientThread = threading.Thread(\n",
    "            target=client_handler, args=(conn, addr))\n",
    "\n",
    "        # start the thread\n",
    "        clientThread.start()"
   ]
  }
 ],
 "metadata": {
  "kernelspec": {
   "display_name": "Python 3.9.10 64-bit",
   "language": "python",
   "name": "python3"
  },
  "language_info": {
   "codemirror_mode": {
    "name": "ipython",
    "version": 3
   },
   "file_extension": ".py",
   "mimetype": "text/x-python",
   "name": "python",
   "nbconvert_exporter": "python",
   "pygments_lexer": "ipython3",
   "version": "3.9.10"
  },
  "orig_nbformat": 4,
  "vscode": {
   "interpreter": {
    "hash": "aee5161b8d3706f136b414f83d25d87cb7ee38bd6b696120dcc0cd5f5b73368c"
   }
  }
 },
 "nbformat": 4,
 "nbformat_minor": 2
}
