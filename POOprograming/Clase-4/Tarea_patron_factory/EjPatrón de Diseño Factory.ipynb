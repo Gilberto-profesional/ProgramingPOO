{
 "cells": [
  {
   "cell_type": "markdown",
   "metadata": {},
   "source": [
    "<div style=\"display:flex;flex-direction:row;justify-content: space-evenly;\">\n",
    "<img src=\"tec.png\" style=\"width:320px;height:197px;\"/>\n",
    "<img src=\"itcolima.svg\" style=\"width:197px\"/>\n",
    "</div>\n",
    "<div style=\"display:flex;flex-direction:column;gap:20px;text-align:center\"></div>\n",
    "\n",
    "<h1 align=\"center\">Tecnológico Nacional de México\n",
    "campus Colima</h1>\n",
    "<h2 align=\"center\">Maestría en Sistemas\n",
    "Computacionales</h2><br></br>\n",
    "<h3 align=\"center\">Patrones de diseño</h3>\n",
    "<h3 align=\"center\">Ejercicio Práctico: Patrón de Diseño Factory</h3><br></br>\n",
    "<h4 align=\"center\">Docente:</h4>\n",
    "<h4 align=\"center\">D. en C. Patricia Figueroa Millan </h4><br></br>\n",
    "<h4 align=\"center\">Autor:</h4>\n",
    "<h4 align=\"center\">Ing. Gilberto Rene Martinez Gutierrez G2146013</h4><br></br>\n",
    "<h4 align=\"center\"></h4>\n",
    "<h4 align=\"center\">Villa de Álvarez, Colima, México</h4>\n",
    "<h4 align=\"center\">28 de septiembre de 2022</h4>"
   ]
  },
  {
   "cell_type": "markdown",
   "metadata": {},
   "source": [
    "<h2 align=\"rigth\" >Objetivo</h2>\n",
    "\n",
    "<h4 align=\"rigth\" >Desarrollar un ejercicio sobre los usos e implementacion del patron de diseño Factory</h4>"
   ]
  },
  {
   "cell_type": "markdown",
   "metadata": {},
   "source": [
    "<h2 align=\"rigth\" >Metodologia</h2>\n",
    "<h4 align=\"justify\" >Para la resolucion del problema se realizo un analisis previo sobre el funcionamiento del patron de diseño factory donde se recurrio al material proporcionado por la profesora, el contenido de este material facilito el entendimiento de lo basico sobre el patron, ademas de permitir analisar unos ejemplos de su funcionamiento </h4>"
   ]
  },
  {
   "cell_type": "markdown",
   "metadata": {},
   "source": [
    "<h2 align=\"rigth\" >Antecedentes del patron de diseño factory</h2>\n",
    "<h4 align=\"justify\">El patrón de diseño Factory se centra en agregar un nivel extra de abstracción entre la\n",
    "creación del objeto y dónde es éste utilizado, proporciona opciones extras que se\n",
    "pueden extender fácilmente en un futuro.\n",
    "¿Qué significa esto? que la Fabrica (Factory) se enfoca en la creación de esa abstracción\n",
    "extra entre la creación del objeto y dónde se utiliza.\n",
    "Es uno de los patrones de diseño más sencillos de comprender, permitiendo seleccionar\n",
    "dinámicamente que clases instanciar con base en cierto tipo de lógica. Por ejemplo:\n",
    "Suponga un juego para diseñar casas y la casa tiene un silla que ya está por defecto\n",
    "agregada en el piso de la casa. Al agregar el patron de diseño Factory se le puede\n",
    "proporcionar al usuario la opción de seleccionar dirferentes sillas, y qué tantas sillas en\n",
    "tiempo de ejecución, en lugar de que la silla esté codificada en el proyecto cuando se\n",
    "ejecuta, el usuario tiene ahora la opción de elejir.</h4>"
   ]
  },
  {
   "cell_type": "markdown",
   "metadata": {},
   "source": [
    "\n",
    "<h2 align=\"rigth\">Agregar esta abstracción adicional también significa que:</h2>"
   ]
  },
  {
   "cell_type": "markdown",
   "metadata": {},
   "source": [
    "\n",
    "<h4 align=\"rigth\">•\tLas complicaciones de crear instancias de objetos adicionales se puedan ocultar de\n",
    "la clase o del método que lo está utilizando.\n",
    "</h4>\n",
    "\n",
    "\n",
    "<h4 align=\"rigth\">•\tLa separación hace que el código sea más fácil de leer y documentar.\n",
    "</h4>\n",
    "\n",
    "\n",
    "\n"
   ]
  },
  {
   "cell_type": "markdown",
   "metadata": {},
   "source": [
    "<h2 align=\"rigth\">Terminología</h2>\n"
   ]
  },
  {
   "cell_type": "markdown",
   "metadata": {},
   "source": [
    "\n",
    "<h4 align=\"rigth\">•Creador concreto: Cualquier código (aplicación, clase o método que crea objetos),\n",
    "conocido comúnmente como cliente, el cual manda llamar al Creador (Factory)\n",
    "</h4>\n",
    "\n",
    "\n",
    "<h4 align=\"rigth\">•\tInterface del producto: Inteface que describre los atributos y métodos que el\n",
    "Creador requerira con la finalidad de crear el producto u objeto.\n",
    "</h4>\n",
    "\n",
    "\n",
    "<h4 align=\"rigth\">•\tCreador: La clase Factory. Declara el método para fabricar los objetos y la cual\n",
    "regresará el bojeto solicitado. El Creador Concreto puede acceder al Creador.\n",
    "</h4>\n",
    "\n",
    "\n",
    "<h4 align=\"rigth\">•\tEl objeto regresado desde la clase Factory.\n",
    "</h4>\n"
   ]
  },
  {
   "cell_type": "markdown",
   "metadata": {},
   "source": [
    "<img src=\"diagrama patron factory.png\" style=\"width:1080px;height:500px;\"/>"
   ]
  },
  {
   "cell_type": "markdown",
   "metadata": {},
   "source": [
    "<h2 align=\"rigth\">Instrucciones del ejemplo</h2>\n"
   ]
  },
  {
   "cell_type": "markdown",
   "metadata": {},
   "source": [
    "\n",
    "<h4 align=\"rigth\">• En este ejemplo, el cliente desea crear un objeto llamado b .\n",
    "</h4>\n",
    "\n",
    "\n",
    "<h4 align=\"rigth\">• En lugar de crear directamente b en el cliente, este pregunta al creador (fabrica)\n",
    "por el objeto en su luagar.\n",
    "</h4>\n",
    "\n",
    "\n",
    "<h4 align=\"rigth\">•\tEl creador o fábrica encuentra la clase relevante usando cierto tiepo de lógica para\n",
    "los atributos de la petición.\n",
    "</h4>\n",
    "\n",
    "\n",
    "<h4 align=\"rigth\">• El creador entonces pregunta a la subclase para instanciar el nuevo objeto que\n",
    "regresará como referencia al cliente preguntando por éste.\n",
    "</h4>\n"
   ]
  },
  {
   "cell_type": "code",
   "execution_count": 12,
   "metadata": {},
   "outputs": [
    {
     "name": "stdout",
     "output_type": "stream",
     "text": [
      "CreadorConcretoB\n"
     ]
    }
   ],
   "source": [
    "\"Ejemplo Conceptual del Patrón de Diseño Factory\"\n",
    "\n",
    "from abc import ABCMeta, abstractmethod\n",
    "#Se crea la interfaz producto (IProducto)\n",
    "class IProducto(metaclass=ABCMeta): \"Una clase tipo interfaz hipotética (Producto)\"\n",
    "@staticmethod\n",
    "@abstractmethod\n",
    "def crear_objeto():\"Un método abstracto de la interfaz\"\n",
    "\n",
    "#Se crean los \"creadores concretos\" que llaman al Creador (Fábrica)\n",
    "class CreadorConcretoA(IProducto): \n",
    "    \"Una clase creador concreto que implementa la interfaz IProducto\"\n",
    "\n",
    "    def __init__(self):\n",
    "        self.name = \"CreadorConcretoA\"\n",
    "\n",
    "    def crear_objeto(self):\n",
    "        return self\n",
    "        \n",
    "class CreadorConcretoB(IProducto): \n",
    "    \"Una clase creador concreto que implementa la interfaz IProducto\"\n",
    "\n",
    "    def __init__(self):\n",
    "        self.name = \"CreadorConcretoB\"\n",
    "\n",
    "    def crear_objeto(self):\n",
    "        return self\n",
    "\n",
    "class CreadorConcretoC(IProducto):\n",
    "    \"Una clase creador concreto que implementa la interfaz IProducto\"\n",
    "\n",
    "    def __init__(self):\n",
    "        self.name = \"CreadorConcretoC\"\n",
    "\n",
    "    def crear_objeto(self):\n",
    "        return self\n",
    "\n",
    "# Clase Factory\n",
    "class Creador:\n",
    "     \"La clase Creador - Factory\"\n",
    "     @staticmethod\n",
    "\n",
    "     def crear_objeto(propiedad): \n",
    "            \"Método estático para obtener un producto concreto\"\n",
    "            if propiedad == 'a':\n",
    "                return CreadorConcretoA()\n",
    "            if propiedad == 'b':\n",
    "                return CreadorConcretoB()\n",
    "            if propiedad == 'c':\n",
    "                return CreadorConcretoC()\n",
    "\n",
    "            return None\n",
    "        # Cuando se desea un nivel mayor de abstracción\n",
    "        # Aplicación cliente\n",
    "        #PRODUCTO = Creador.crear_objeto('c')\n",
    "        #print(PRODUCTO.name)\n",
    "        #Se puede realizar directamente\n",
    "\n",
    "PRODUCTO = CreadorConcretoB()\n",
    "print(PRODUCTO.name)"
   ]
  },
  {
   "cell_type": "markdown",
   "metadata": {},
   "source": [
    "<h2 align=\"rigth\">Problematica del ejemplo</h2>"
   ]
  },
  {
   "cell_type": "markdown",
   "metadata": {},
   "source": [
    "\n",
    "<h4 align=\"rigth\">Supongamos que se desea desarrolla un juego de carreras y la tarea es crear tráfico\n",
    "aleatorio en las pistas de carreras, se necesita producir un Carro, una Bicicleta y una\n",
    "Camioneta de manera aleatoria ¿Cómo podemos crear estos objetos?</h4>\n",
    "\n",
    "<h4 align=\"rigth\">• 1. Crear un clase para cada tipo de objeto.\n",
    "</h4>\n",
    "\n",
    "<h4 align=\"rigth\">• 2. Crear una fabrica de vehiculos.\n",
    "</h4>\n",
    "\n",
    "<h4 align=\"rigth\">Pero... ¿Qué pasa si tengo que hacer adecuaciones? ¿cuantas clases y cuantos objetos\n",
    "se verían afectadas?\n",
    "</h4>\n",
    "\n",
    "\n",
    "\n",
    "\n"
   ]
  },
  {
   "cell_type": "markdown",
   "metadata": {},
   "source": [
    "<h2 align=\"rigth\">Solucion </h2>"
   ]
  },
  {
   "cell_type": "markdown",
   "metadata": {},
   "source": [
    "\n",
    "<h4 align=\"rigth\">Para crear objetos de las clases mencionadas anteriormente, se empleará el patrón de\n",
    "diseño Factory, el cual a través de un metodo nos devolverá los objetos creados acorde\n",
    "a cada tipo de clase o cualquier clase que se pueda agregar de vehículos.</h4>"
   ]
  },
  {
   "cell_type": "code",
   "execution_count": 13,
   "metadata": {},
   "outputs": [],
   "source": [
    "from abc import ABCMeta, abstractmethod\n",
    "class IVehiculo(metaclass=ABCMeta):\n",
    "    \"Una clase tipo interfaz para vehículos (Producto)\"\n",
    "    @staticmethod\n",
    "    @abstractmethod\n",
    "    def crear_objeto():\n",
    "     \"Un método abastracto de la interfaz\""
   ]
  },
  {
   "cell_type": "code",
   "execution_count": 14,
   "metadata": {},
   "outputs": [],
   "source": [
    "class Carro(IVehiculo):\n",
    "    def __init__(self):\n",
    "        self.name=\"Esto es un carro!!\"\n",
    "        self.area = 100\n",
    "        \n",
    "    def crear_objeto(self):\n",
    "        return self"
   ]
  },
  {
   "cell_type": "code",
   "execution_count": 15,
   "metadata": {},
   "outputs": [],
   "source": [
    "class Bicicleta(IVehiculo):\n",
    "\n",
    "#Se agregó un parámetro de ejemplo en el constructor (inicializador)\n",
    "#Que se pasa a la clase desde el Factory (Creador)\n",
    "    def __init__(self,tipo):\n",
    "        self.name=\"Esta es una bicicleta!!\"\n",
    "        self.area = 50\n",
    "        self.pedales = True\n",
    "        self.asiento = True\n",
    "        self.tipo_bike = tipo\n",
    "#print(tipo)\n",
    "    def crear_objeto(self):\n",
    "        return self"
   ]
  },
  {
   "cell_type": "code",
   "execution_count": 16,
   "metadata": {},
   "outputs": [],
   "source": [
    "class Camioneta(IVehiculo):\n",
    "    def __init__(self):\n",
    "        self.area = 1000\n",
    "        self.name=\"Esta es una Camioneta!!\"\n",
    "        self.doble_traccion = False\n",
    "        \n",
    "    def crear_objeto(self):\n",
    "        return self\n",
    "    def velocidad(self):\n",
    "        return \"Arrancando....\""
   ]
  },
  {
   "cell_type": "code",
   "execution_count": 17,
   "metadata": {},
   "outputs": [],
   "source": [
    "class CreadorVehiculos:\n",
    "    \"Factory Class\"\n",
    "    @staticmethod\n",
    "    def crear_objeto(propiedad):\n",
    "        \"A static method to get a concrate product\"\n",
    "        if propiedad ==\"carro\":\n",
    "            return Carro()\n",
    "        elif propiedad == \"bicicleta\":\n",
    "            return Bicicleta(\"montaña\")\n",
    "        elif propiedad == \"camioneta\":\n",
    "            return Camioneta()\n",
    "        else:\n",
    "            return None"
   ]
  },
  {
   "cell_type": "code",
   "execution_count": 18,
   "metadata": {},
   "outputs": [
    {
     "name": "stdout",
     "output_type": "stream",
     "text": [
      "Esta es una Camioneta!!\n",
      "Arrancando....\n",
      "False\n"
     ]
    }
   ],
   "source": [
    "# Un objeto se crea normalmente así:\n",
    "\n",
    "#carro = Car()\n",
    "#print(carro.name)\n",
    "#print(carro.area)\n",
    "# The Client\n",
    "# Creación de objeto mendiante el factory.\n",
    "camioneta = CreadorVehiculos().crear_objeto(\"camioneta\")\n",
    "print(camioneta.name)\n",
    "print(camioneta.velocidad())\n",
    "print(camioneta.doble_traccion)"
   ]
  },
  {
   "cell_type": "code",
   "execution_count": 19,
   "metadata": {},
   "outputs": [
    {
     "name": "stdout",
     "output_type": "stream",
     "text": [
      "Esto es un carro!!\n"
     ]
    }
   ],
   "source": [
    "carro = CreadorVehiculos().crear_objeto(\"carro\")\n",
    "\n",
    "print(carro.name)"
   ]
  },
  {
   "cell_type": "code",
   "execution_count": 20,
   "metadata": {},
   "outputs": [
    {
     "name": "stdout",
     "output_type": "stream",
     "text": [
      "Esta es una bicicleta!!\n",
      "True\n",
      "montaña\n"
     ]
    }
   ],
   "source": [
    "bike = CreadorVehiculos().crear_objeto(\"bicicleta\")\n",
    "\n",
    "print(bike.name)\n",
    "print(bike.pedales)\n",
    "print(bike.tipo_bike)"
   ]
  },
  {
   "cell_type": "code",
   "execution_count": 21,
   "metadata": {},
   "outputs": [
    {
     "name": "stdout",
     "output_type": "stream",
     "text": [
      "Esta es una bicicleta!!\n",
      "True\n"
     ]
    }
   ],
   "source": [
    "bike2 = CreadorVehiculos().crear_objeto(\"bicicleta\")\n",
    "\n",
    "print(bike2.name)\n",
    "print(bike2.pedales)"
   ]
  },
  {
   "cell_type": "markdown",
   "metadata": {},
   "source": [
    "<h2 align=\"rigth\">  Ejercicio practico</h2>"
   ]
  },
  {
   "cell_type": "markdown",
   "metadata": {},
   "source": [
    "<h4 align=\"rigth\">Suponga un caso de uso de ejemplo, en donde una interfaz de usuario permite al usuario\n",
    "seleccionar elementos de un menú, como sillas.</h4>\n",
    "\n",
    "\n",
    "<h4 align=\"rigth\">Al usuario se le ha dado una opción usando algún tipo de interfaz de navegación, y no se\n",
    "sabe qué opción o cuántas seleccionará el usuario hasta que la aplicación se esté\n",
    "ejecutando realmente y el usuario comience a usarla.</h4>\n",
    "\n",
    "\n",
    "<h4 align=\"rigth\">Entonces, cuando el usuario seleccione la silla, la fábrica toma alguna propiedad\n",
    "relacionada con esa selección, como un ID, tipo u otro atributo, y luego decide qué\n",
    "subclase relevante instanciar para devolver el objeto apropiado.</h4>\n",
    "\n",
    "\n",
    "\n"
   ]
  },
  {
   "cell_type": "code",
   "execution_count": 22,
   "metadata": {},
   "outputs": [],
   "source": [
    "from abc import ABCMeta, abstractmethod\n",
    "class Interfaz_Sillas(metaclass=ABCMeta):\n",
    "    \"Una clase tipo interfaz para sillas (Producto)\"\n",
    "    @staticmethod\n",
    "    @abstractmethod\n",
    "    def crear_objeto():\n",
    "     \"Un método abastracto de la interfaz\""
   ]
  },
  {
   "cell_type": "code",
   "execution_count": 23,
   "metadata": {},
   "outputs": [],
   "source": [
    "#Subclases de la clase interfaz_sillas\n",
    "class Silla_Comedor(Interfaz_Sillas):\n",
    "    def __init__(self):\n",
    "        self.name=\"Esto es una silla de comedor!!\"\n",
    "        self.price = 1000\n",
    "        self.color = \"Blanco\"\n",
    "        self.material = \"Madera\"\n",
    "        self.patas = 4\n",
    "        self.tipo = \"Comedor\"\n",
    "           \n",
    "    def crear_objeto(self):\n",
    "        return self"
   ]
  },
  {
   "cell_type": "code",
   "execution_count": 24,
   "metadata": {},
   "outputs": [],
   "source": [
    "class Silla_Exterior(Interfaz_Sillas):\n",
    "    def __init__(self):\n",
    "        self.name=\"Esto es una silla de exterior!\"\n",
    "        self.price = 1500\n",
    "        self.color = \"Blanco\"\n",
    "        self.material = \"Metal\"\n",
    "        self.patas = 4\n",
    "        self.tipo = \"Exterior\"\n",
    "           \n",
    "    def crear_objeto(self):\n",
    "        return self"
   ]
  },
  {
   "cell_type": "code",
   "execution_count": 25,
   "metadata": {},
   "outputs": [],
   "source": [
    "class Silla_Periquera(Interfaz_Sillas):\n",
    "    def __init__(self):\n",
    "        self.name=\"Esto es una periquera !!\"\n",
    "        self.price = 800\n",
    "        self.color = \"Blanco\"\n",
    "        self.material = \"Madera\"\n",
    "        self.patas = 3\n",
    "        self.tipo = \"Periquera\"\n",
    "           \n",
    "    def crear_objeto(self):\n",
    "        return self"
   ]
  },
  {
   "cell_type": "code",
   "execution_count": 26,
   "metadata": {},
   "outputs": [],
   "source": [
    "# Clase constructora\n",
    "class CreadorSillas:\n",
    "    \"Factory Class\"\n",
    "    @staticmethod\n",
    "    def crear_objeto(propiedad):\n",
    "        \"Metodo estatico para la contruccion de objetos\"\n",
    "\n",
    "        if propiedad ==\"Silla comedor\":\n",
    "            return Silla_Comedor()\n",
    "\n",
    "        elif propiedad == \"Silla exterior\":\n",
    "            return Silla_Exterior()\n",
    "\n",
    "        elif propiedad == \"Periquera\":\n",
    "            return Silla_Periquera()\n",
    "            \n",
    "        else:\n",
    "            return None"
   ]
  },
  {
   "cell_type": "code",
   "execution_count": 34,
   "metadata": {},
   "outputs": [
    {
     "name": "stdout",
     "output_type": "stream",
     "text": [
      "Esto es una silla de comedor!!\n",
      "1000\n",
      "Blanco\n",
      "Madera\n",
      "4\n",
      "Comedor\n"
     ]
    }
   ],
   "source": [
    "# Creacion de objetos\n",
    "Id_1506_Silla = CreadorSillas().crear_objeto(\"Silla comedor\")\n",
    "print(Id_1506_Silla.name)\n",
    "print(Id_1506_Silla.price)\n",
    "print(Id_1506_Silla.color)\n",
    "print(Id_1506_Silla.material)\n",
    "print(Id_1506_Silla.patas)\n",
    "print(Id_1506_Silla.tipo)\n",
    "\n"
   ]
  },
  {
   "cell_type": "markdown",
   "metadata": {},
   "source": [
    "<h2 align=\"rigth\"> Diagrama UML del programa sillas</h2>"
   ]
  },
  {
   "cell_type": "markdown",
   "metadata": {},
   "source": [
    "<img src=\"uml sillas.png\" style=\"width:1080px;height:500px;\"/>"
   ]
  },
  {
   "cell_type": "markdown",
   "metadata": {},
   "source": [
    "<h2 align=\"rigth\" >Conclusiones</h2>\n",
    "\n",
    "<h4 align=\"justify\" >Gracias al desarrolo de esta actividad se logro comprender el funcionamiento del patron de diseño \"Factory\", a traves de este patron se comprendio la estructura con la cual se deben diseñar sistemas expansibles dentro de la creacion de objetos</h4>"
   ]
  }
 ],
 "metadata": {
  "kernelspec": {
   "display_name": "Python 3.9.10 64-bit",
   "language": "python",
   "name": "python3"
  },
  "language_info": {
   "codemirror_mode": {
    "name": "ipython",
    "version": 3
   },
   "file_extension": ".py",
   "mimetype": "text/x-python",
   "name": "python",
   "nbconvert_exporter": "python",
   "pygments_lexer": "ipython3",
   "version": "3.9.10"
  },
  "orig_nbformat": 4,
  "vscode": {
   "interpreter": {
    "hash": "aee5161b8d3706f136b414f83d25d87cb7ee38bd6b696120dcc0cd5f5b73368c"
   }
  }
 },
 "nbformat": 4,
 "nbformat_minor": 2
}
