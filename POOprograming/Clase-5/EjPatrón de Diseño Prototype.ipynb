{
 "cells": [
  {
   "cell_type": "markdown",
   "metadata": {},
   "source": [
    "<div style=\"display:flex;flex-direction:row;justify-content: space-evenly;\">\n",
    "<img src=\"tec.png\" style=\"width:320px;height:197px;\"/>\n",
    "<img src=\"itcolima.svg\" style=\"width:197px\"/>\n",
    "</div>\n",
    "<div style=\"display:flex;flex-direction:column;gap:20px;text-align:center\"></div>\n",
    "\n",
    "<h1 align=\"center\">Tecnológico Nacional de México\n",
    "campus Colima</h1>\n",
    "<h2 align=\"center\">Maestría en Sistemas\n",
    "Computacionales</h2><br></br>\n",
    "<h3 align=\"center\">Patrones de diseño</h3>\n",
    "<h3 align=\"center\">Ejercicio Práctico: Patrón de Diseño Factory</h3><br></br>\n",
    "<h4 align=\"center\">Docente:</h4>\n",
    "<h4 align=\"center\">D. en C. Patricia Figueroa Millan </h4><br></br>\n",
    "<h4 align=\"center\">Autor:</h4>\n",
    "<h4 align=\"center\">Ing. Gilberto Rene Martinez Gutierrez G2146013</h4><br></br>\n",
    "<h4 align=\"center\"></h4>\n",
    "<h4 align=\"center\">Villa de Álvarez, Colima, México</h4>\n",
    "<h4 align=\"center\">28 de septiembre de 2022</h4>"
   ]
  },
  {
   "cell_type": "markdown",
   "metadata": {},
   "source": [
    "<h2 align=\"rigth\" >Prototype</h2>\n",
    "\n",
    "<h4 align=\"rigth\" >Prototype es un patrón de diseño creacional que nos permite copiar objetos existentes sin que el código dependa de sus clases.</h4>"
   ]
  },
  {
   "cell_type": "markdown",
   "metadata": {},
   "source": [
    "<h2 align=\"rigth\" >Solución</h2>\n",
    "\n",
    "<h4 align=\"justify\" >El patrón Prototype delega el proceso de clonación a los propios objetos que están siendo clonados. El patrón declara una interfaz común para todos los objetos que soportan la clonación. Esta interfaz nos permite clonar un objeto sin acoplar el código a la clase de ese objeto. Normalmente, dicha interfaz contiene un único método clonar.</h4>\n",
    "\n",
    "<h4 align=\"justify\" >La implementación del método clonar es muy parecida en todas las clases. El método crea un objeto a partir de la clase actual y lleva todos los valores de campo del viejo objeto, al nuevo. Se puede incluso copiar campos privados, porque la mayoría de los lenguajes de programación permite a los objetos acceder a campos privados de otros objetos que pertenecen a la misma clase.</h4>\n",
    "\n",
    "<h4 align=\"justify\" >Funciona así: se crea un grupo de objetos configurados de maneras diferentes. Cuando necesites un objeto como el que has configurado, clonas un prototipo en lugar de construir un nuevo objeto desde cero. </h4>"
   ]
  },
  {
   "cell_type": "markdown",
   "metadata": {},
   "source": [
    "<h2 align=\"rigth\" >Analogía del mundo real</h2>"
   ]
  },
  {
   "cell_type": "markdown",
   "metadata": {},
   "source": [
    "\n",
    "<h4 align=\"justify\">En la vida real, los prototipos se utilizan para realizar pruebas de todo tipo antes de comenzar con la producción en masa de un producto. Sin embargo, en este caso, los prototipos no forman parte de una producción real, sino que juegan un papel pasivo.</h4>\n",
    "\n",
    "\n",
    "<h4 align=\"justify\">Ya que los prototipos industriales en realidad no se copian a sí mismos, una analogía más precisa del patrón es el proceso de la división mitótica de una célula (biología, ¿recuerdas?). Tras la división mitótica, se forma un par de células idénticas. La célula original actúa como prototipo y asume un papel activo en la creación de la copia.</h4>"
   ]
  },
  {
   "cell_type": "markdown",
   "metadata": {},
   "source": [
    "<h2 align=\"rigth\">Solucion </h2>"
   ]
  },
  {
   "cell_type": "markdown",
   "metadata": {},
   "source": [
    "\n",
    "<h4 align=\"rigth\">Todas las clases de forma siguen la misma interfaz, que proporciona un método de clonación. Una subclase puede invocar el método de clonación padre antes de copiar sus propios valores de campo al objeto resultante.</h4>"
   ]
  },
  {
   "cell_type": "markdown",
   "metadata": {},
   "source": [
    "<h2 align=\"rigth\">Estructura</h2>"
   ]
  },
  {
   "cell_type": "markdown",
   "metadata": {},
   "source": [
    "<img src=\"Ejemplo_prototype.png\" style=\"width:1080px;height:500px;\"/>"
   ]
  },
  {
   "cell_type": "markdown",
   "metadata": {},
   "source": [
    "<h2 align=\"rigth\"> Aplicabilidad</h2>"
   ]
  },
  {
   "cell_type": "markdown",
   "metadata": {},
   "source": [
    "<h4 align=\"rigth\">•\t Utiliza el patrón Prototype cuando tu código no deba depender de las clases concretas de objetos que necesites copiar.\n",
    "</h4>\n",
    "\n",
    "\n",
    "<h4 align=\"rigth\">•\tEsto sucede a menudo cuando tu código funciona con objetos pasados por código de terceras personas a través de una interfaz. Las clases concretas de estos objetos son desconocidas y no podrías depender de ellas aunque quisieras.\n",
    "</h4>\n",
    "\n",
    "<h4 align=\"rigth\">•\tEl patrón Prototype proporciona al código cliente una interfaz general para trabajar con todos los objetos que soportan la clonación. Esta interfaz hace que el código cliente sea independiente de las clases concretas de los objetos que clona.\n",
    "</h4>\n",
    "\n",
    "\n",
    "<h4 align=\"rigth\">•\tUtiliza el patrón cuando quieras reducir la cantidad de subclases que solo se diferencian en la forma en que inicializan sus respectivos objetos. Puede ser que alguien haya creado estas subclases para poder crear objetos con una configuración específica.\n",
    "</h4>\n",
    "\n",
    "<h4 align=\"rigth\">•\tEl patrón Prototype te permite utilizar como prototipos un grupo de objetos prefabricados, configurados de maneras diferentes.\n",
    "</h4>\n",
    "\n",
    "\n",
    "<h4 align=\"rigth\">•\tEn lugar de instanciar una subclase que coincida con una configuración, el cliente puede, sencillamente, buscar el prototipo adecuado y clonarlo.\n",
    "</h4>\n",
    "\n",
    "\n"
   ]
  },
  {
   "cell_type": "markdown",
   "metadata": {},
   "source": [
    "<h2 align=\"rigth\" >Aplicabilidad</h2>"
   ]
  },
  {
   "cell_type": "markdown",
   "metadata": {},
   "source": [
    "<h4 align=\"rigth\">1• Crea la interfaz del prototipo y declara el método clonar en ella, o, simplemente, añade el método a todas las clases de una jerarquía de clase existente, si la tienes.\n",
    "</h4>\n",
    "\n",
    "\n",
    "<h4 align=\"rigth\">2•\tUna clase de prototipo debe definir el constructor alternativo que acepta un objeto de dicha clase como argumento. El constructor debe copiar los valores de todos los campos definidos en la clase del objeto que se le pasa a la instancia recién creada. Si deseas cambiar una subclase, debes invocar al constructor padre para permitir que la superclase gestione la clonación de sus campos privados.</h4>\n",
    "<h4 align=\"rigth\">\n",
    "Si el lenguaje de programación que utilizas no soporta la sobrecarga de métodos, puedes definir un método especial para copiar la información del objeto. El constructor es el lugar más adecuado para hacerlo, porque entrega el objeto resultante justo después de invocar el operador new.\n",
    "</h4>\n",
    "\n",
    "<h4 align=\"rigth\">3•\tNormalmente, el método de clonación consiste en una sola línea que ejecuta un operador new con la versión prototípica del constructor. Observa que todas las clases deben sobreescribir explícitamente el método de clonación y utilizar su propio nombre de clase junto al operador new. De lo contrario, el método de clonación puede producir un objeto a partir de una clase madre.\n",
    "</h4>\n",
    "\n",
    "\n",
    "<h4 align=\"rigth\">4•\tOpcionalmente, puedes crear un registro de prototipos centralizado para almacenar un catálogo de prototipos de uso frecuente.\n",
    "</h4>\n",
    "\n",
    "<h4 align=\"rigth\">Puedes implementar el registro como una nueva clase de fábrica o colocarlo en la clase base de prototipo con un método estático para buscar el prototipo. Este método debe buscar un prototipo con base en el criterio de búsqueda que el código cliente pase al método. El criterio puede ser una etiqueta tipo string o un grupo complejo de parámetros de búsqueda. Una vez encontrado el prototipo adecuado, el registro deberá clonarlo y devolver la copia al cliente.\n",
    "</h4>\n",
    "\n"
   ]
  },
  {
   "cell_type": "markdown",
   "metadata": {},
   "source": [
    "<h2 align=\"rigth\" >Pros de usar el metodo</h2>"
   ]
  },
  {
   "cell_type": "markdown",
   "metadata": {},
   "source": [
    "<h4 align=\"rigth\">•\tPuedes clonar objetos sin acoplarlos a sus clases concretas.\n",
    "</h4>\n",
    "\n",
    "\n",
    "<h4 align=\"rigth\">•\tPuedes evitar un código de inicialización repetido clonando prototipos prefabricados.\n",
    "</h4>\n",
    "\n",
    "<h4 align=\"rigth\">•\tPuedes crear objetos complejos con más facilidad.\n",
    "</h4>\n",
    "\n",
    "\n",
    "<h4 align=\"rigth\">•\tObtienes una alternativa a la herencia al tratar con preajustes de configuración para objetos complejos.\n",
    "</h4>\n"
   ]
  },
  {
   "cell_type": "markdown",
   "metadata": {},
   "source": [
    "<h2 align=\"rigth\" >Ejemplo</h2>"
   ]
  },
  {
   "cell_type": "code",
   "execution_count": 12,
   "metadata": {},
   "outputs": [
    {
     "name": "stdout",
     "output_type": "stream",
     "text": [
      "[1]\n",
      "4\n"
     ]
    }
   ],
   "source": [
    "from abc import ABCMeta, abstractmethod\n",
    "class Interfaz_Sillas(metaclass=ABCMeta):\n",
    "    \"Una clase tipo interfaz para sillas (Producto)\"\n",
    "    @staticmethod\n",
    "    @abstractmethod\n",
    "    def crear_objeto():\n",
    "     \"Un método abastracto de la interfaz\"\n",
    "\n",
    "class Shape(metaclass=ABCMeta):\n",
    "\n",
    "    @abstractmethod\n",
    "    def clone(self):\n",
    "        pass\n",
    "\n",
    "class Copiar():\n",
    "    def __init__(self):\n",
    "        self.x = [1]\n",
    "    \n",
    "class Circulo(Shape):\n",
    "    def __init__(self, source):\n",
    "        self.radius = source.radius\n",
    "        \n",
    "    def clone(self):\n",
    "        return new Circulo(self)\n",
    "\n",
    "\n",
    "# It copies.\n",
    "c = Copiar()\n",
    "d = copy.copy(c)\n",
    "d.x=4\n",
    "\n",
    "print(c.x)\n",
    "print(d.x)\n",
    "\n",
    "# It's shallow.\n",
    "c = Copiar()\n",
    "d = copy.copy(c)\n",
    "d.x[0] = 3\n",
    "assert c.x == [3]\n",
    "assert d.x == [3]"
   ]
  },
  {
   "cell_type": "markdown",
   "metadata": {},
   "source": [
    "<h2 align=\"rigth\" >Conclusiones</h2>\n",
    "\n",
    "<h4 align=\"justify\" >Gracias al desarrolo de esta actividad se logro comprender el funcionamiento del patron de diseño \"Factory\", a traves de este patron se comprendio la estructura con la cual se deben diseñar sistemas expansibles dentro de la creacion de objetos</h4>"
   ]
  }
 ],
 "metadata": {
  "kernelspec": {
   "display_name": "Python 3.9.10 64-bit",
   "language": "python",
   "name": "python3"
  },
  "language_info": {
   "codemirror_mode": {
    "name": "ipython",
    "version": 3
   },
   "file_extension": ".py",
   "mimetype": "text/x-python",
   "name": "python",
   "nbconvert_exporter": "python",
   "pygments_lexer": "ipython3",
   "version": "3.9.10"
  },
  "orig_nbformat": 4,
  "vscode": {
   "interpreter": {
    "hash": "aee5161b8d3706f136b414f83d25d87cb7ee38bd6b696120dcc0cd5f5b73368c"
   }
  }
 },
 "nbformat": 4,
 "nbformat_minor": 2
}
