{
 "cells": [
  {
   "cell_type": "markdown",
   "metadata": {},
   "source": [
    "<div style=\"display:flex;flex-direction:row;justify-content: space-evenly;\">\n",
    "<img src=\"tec.png\" style=\"width:320px;height:197px;\"/>\n",
    "<img src=\"itcolima.svg\" style=\"width:197px\"/>\n",
    "</div>\n",
    "<div style=\"display:flex;flex-direction:column;gap:20px;text-align:center\"></div>\n",
    "\n",
    "<h1 align=\"center\">Tecnológico Nacional de México\n",
    "campus Colima</h1>\n",
    "<h2 align=\"center\">Maestría en Sistemas\n",
    "Computacionales</h2><br></br>\n",
    "<h3 align=\"center\">Patrones de Diseño para Mapeo de Objetos: Data Mapper  y  Unit of Work </h3>\n",
    "<h3 align=\"center\">Investigacion: Mapeo de Objetos</h3><br></br>\n",
    "<h4 align=\"center\">Docente:</h4>\n",
    "<h4 align=\"center\">D. en C. Patricia Figueroa Millan </h4><br></br>\n",
    "<h4 align=\"center\">Autor:</h4>\n",
    "<h4 align=\"center\">Ing. Gilberto Rene Martinez Gutierrez G2146013</h4>\n",
    "<h4 align=\"center\">Ing. Ricardo Gutierrez Valenzuela G2146012</h4><br></br>\n",
    "<h4 align=\"center\"></h4>\n",
    "<h4 align=\"center\">Villa de Álvarez, Colima, México</h4>\n",
    "<h4 align=\"center\">24 de noviembre de 2022</h4>"
   ]
  },
  {
   "cell_type": "markdown",
   "metadata": {},
   "source": [
    "<h2 align=\"rigth\" >Resumen</h2>"
   ]
  },
  {
   "cell_type": "markdown",
   "metadata": {},
   "source": [
    "<h4 align=\"justify\" >La actividad a desarrollar consisten en una investigacion acerca de los patrones de diseño para el mapeo de objetos, dentro de estos se analizaran dos el data mapper y unit of work </h4>"
   ]
  },
  {
   "cell_type": "markdown",
   "metadata": {},
   "source": [
    "<h2 align=\"rigth\" >Introducción</h2>\n"
   ]
  },
  {
   "cell_type": "markdown",
   "metadata": {},
   "source": [
    "<h4 align=\"justify\" >Los patrones de diseño o design patterns, son una solución general, reutilizable y aplicable a diferentes problemas de diseño de software. Se trata de plantillas que identifican problemas en el sistema y proporcionan soluciones apropiadas a problemas generales a los que se han enfrentado los desarrolladores durante un largo periodo de tiempo, a través de prueba y error.</h4>"
   ]
  },
  {
   "cell_type": "markdown",
   "metadata": {},
   "source": [
    "<h2 align=\"rigth\" >Desarrollo -> </h2>"
   ]
  },
  {
   "cell_type": "markdown",
   "metadata": {},
   "source": [
    "<h2 align=\"rigth\" >Data mapper</h2>"
   ]
  },
  {
   "cell_type": "markdown",
   "metadata": {},
   "source": [
    "\n",
    "<h4 align=\"justify\">Data Mapper, es una Capa de Acceso a Datos que realiza una transferencia bidireccional de datos entre un almacén de datos persistente (normalmente una base de datos relacional) y una representación de datos en memoria (la capa de dominio). El objetivo del patrón es mantener la representación en memoria y el almacén de datos persistente separados entre sí y del propio data mapper. La capa está formada por uno o más mappers (o Capa de Acceso a Datos),realizando la transferencia de datos. La implementación de mappers varían en alcance. Los mapeadores genéricos manejarán muchos tipos de entidades de dominio distintas, los mapeadores dedicados manejarán uno o pocos.\n",
    "\n",
    "El punto clave de este patrón es que, a diferencia del patrón Active Record, el modelo de datos sigue el Principio de Responsabilidad Única (S.O.L.I.D.).</h4>\n",
    "\n",
    "<h4 align=\"justify\">Es un patrón de diseño que define una forma de acceso a los datos de una base de datos relacional. La tabla estará envuelta en una clase desde la que se podrá acceder a la información, realizar modificaciones, borrados e inserciones.\n",
    "\n",
    "La principal diferencia con el patrón Active Record es que en Data Mapper se tiene una clase que se encarga de realizar la persistencia de datos de un objeto que referencie a una tabla en la base de datos.</h4>\n",
    "\n"
   ]
  },
  {
   "cell_type": "markdown",
   "metadata": {},
   "source": [
    "<img src=\"DiagramaUML.png\" style=\"width:1080px;height:900px;\"/>"
   ]
  },
  {
   "cell_type": "markdown",
   "metadata": {},
   "source": [
    "<h2 align=\"rigth\" >Unit of Work</h2>"
   ]
  },
  {
   "cell_type": "markdown",
   "metadata": {},
   "source": [
    "\n",
    "<h4 align=\"justify\">\n",
    "El patrón Unit Of Work es descrito por Matin Fowler como: Mantiene una lista de objetos afectados por una transacción de negocio y coordina la escritura de los cambios y la resolución de problemas de concurrencia.</h4>\n",
    "\n",
    "<h4 align=\"justify\">\n",
    "Lo que quiere decir esto es que se trata de un patrón en el cual internamente el objeto Unit of Work mantiene una lista de cambios a las entidades o demás operaciones a realizar, y cuando se desean escribir en la base de datos, se ejecuta como una única operación (transacciòn).</h4>"
   ]
  },
  {
   "cell_type": "markdown",
   "metadata": {},
   "source": [
    "<img src=\"Unit of work.png\" style=\"width:500px;height:500px;\"/>"
   ]
  },
  {
   "cell_type": "markdown",
   "metadata": {},
   "source": [
    "<h2 align=\"rigth\" >Conclusion </h2>"
   ]
  },
  {
   "cell_type": "markdown",
   "metadata": {},
   "source": [
    "<h4 align=\"justify\"> Con base el desarrollo de la actividad previal, se pudo concluir lo siguiente: El uso de estos patrones como sistemas ORM para el trabajo del accceso y manejo de base de datos es muy util, ya que nos permite acceder a todos los beneficios de trabajar con un sistema orientado a objetos, ademas de que gracias a esto nos permiten desarrollar sistemas mas flexibles y complejos</h4>"
   ]
  }
 ],
 "metadata": {
  "kernelspec": {
   "display_name": "Python 3.9.10 64-bit",
   "language": "python",
   "name": "python3"
  },
  "language_info": {
   "codemirror_mode": {
    "name": "ipython",
    "version": 3
   },
   "file_extension": ".py",
   "mimetype": "text/x-python",
   "name": "python",
   "nbconvert_exporter": "python",
   "pygments_lexer": "ipython3",
   "version": "3.9.10"
  },
  "orig_nbformat": 4,
  "vscode": {
   "interpreter": {
    "hash": "aee5161b8d3706f136b414f83d25d87cb7ee38bd6b696120dcc0cd5f5b73368c"
   }
  }
 },
 "nbformat": 4,
 "nbformat_minor": 2
}
