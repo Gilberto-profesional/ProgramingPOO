{
 "cells": [
  {
   "cell_type": "markdown",
   "metadata": {},
   "source": [
    "<div style=\"display:flex;flex-direction:row;justify-content: space-evenly;\">\n",
    "<img src=\"tecnm.png\" style=\"height:100px;\"/>\n",
    "<img src=\"itcolima.svg\" style=\"width:100px\"/>\n",
    "</div>\n",
    "<div style=\"display:flex;flex-direction:column;gap:20px;text-align:center\">\n",
    "<h1>Tecnológico Nacional de México campus Colima</h1>\n",
    "<h2>Maestría en Sistemas Computacionales</h2>\n",
    "<h2>Tecnologías de programación</h2>\n",
    "<h2>Actividad - \"Procesamiento Concurrente de Imágenes\"</h2>\n",
    "<h2>D. en C. Patricia Elizabeth Figueroa Millán</h2>\n",
    "<h3>Dante Alberto Márquez Almaraz | G2146002</h3>\n",
    "<h3>Gilberto René Martínez Gutiérrez | G2146013</h3>\n",
    "<h3>Pablo Alejandro Cota Sánchez | G2146011</h3>\n",
    "<p style=\"text-align:right;\">Villa de Álvarez, Colima - 10 de noviembre de 2022</p>\n",
    "<p></p>\n",
    "</div>"
   ]
  },
  {
   "cell_type": "markdown",
   "metadata": {},
   "source": [
    "Objetivo:\n",
    "\n",
    "Implementar un programa que pueda concurrentemente procesar una serie de imágenes para obtener su thresholding, entre más grandes sean estas imágenes mejor. "
   ]
  },
  {
   "cell_type": "markdown",
   "metadata": {},
   "source": [
    "Metodología:\n",
    "\n",
    "Se realizó una investigación referente al procesado de imagen, su thresholding y se complementó con un ejemplo de código en Python."
   ]
  },
  {
   "cell_type": "markdown",
   "metadata": {},
   "source": [
    "Materiales:\n",
    "\n",
    "Computadora.\n",
    "Visual Studio Code.\n",
    "Jupyter Notebook.\n"
   ]
  },
  {
   "cell_type": "markdown",
   "metadata": {},
   "source": [
    "Desarrollo:\n",
    "\n",
    "Thresholding es una técnica en OpenCV, que es la asignación de valores de píxel en relación con el valor de umbral proporcionado. En la determinación de umbrales, cada valor de píxel se compara con el valor de umbral. Si el valor del píxel es menor que el umbral, se establece en 0; de lo contrario, se establece en un valor máximo (generalmente 255). \n",
    "\n",
    "Thresholding es una técnica de segmentación muy popular, utilizada para separar un objeto considerado como primer plano de su fondo. Un umbral es un valor que tiene dos regiones a cada lado, es decir, por debajo del umbral o por encima del umbral.\n",
    "En Computer Vision, esta técnica de umbralización se realiza en imágenes en escala de grises. Entonces, inicialmente, la imagen debe convertirse en un espacio de color en escala de grises [1].\n"
   ]
  },
  {
   "cell_type": "markdown",
   "metadata": {},
   "source": [
    "Resultados:"
   ]
  },
  {
   "cell_type": "code",
   "execution_count": 1,
   "metadata": {},
   "outputs": [
    {
     "data": {
      "text/plain": [
       "16"
      ]
     },
     "execution_count": 1,
     "metadata": {},
     "output_type": "execute_result"
    }
   ],
   "source": [
    "import multiprocessing\n",
    "\n",
    "multiprocessing.cpu_count()"
   ]
  },
  {
   "cell_type": "markdown",
   "metadata": {},
   "source": [
    "Conclusiones:\n",
    "\n"
   ]
  },
  {
   "cell_type": "markdown",
   "metadata": {},
   "source": [
    "A través de la implementación de la librería multiprocessing pudimos apreciar el cambio en el tiempo de ejecución del proceso, debido a que se puede seleccionar el número de hilos con los que el computador puede trabajar para realizar la acción."
   ]
  },
  {
   "cell_type": "markdown",
   "metadata": {},
   "source": [
    "Referencias:\n",
    "\n",
    "[1] https://www.geeksforgeeks.org/python-thresholding-techniques-using-opencv-set-1-simple-thresholding/\n",
    "\n",
    "[2] https://pyimagesearch.com/2019/09/09/multiprocessing-with-opencv-and-python/\n",
    "\n"
   ]
  }
 ],
 "metadata": {
  "kernelspec": {
   "display_name": "Python 3.10.6 64-bit",
   "language": "python",
   "name": "python3"
  },
  "language_info": {
   "codemirror_mode": {
    "name": "ipython",
    "version": 3
   },
   "file_extension": ".py",
   "mimetype": "text/x-python",
   "name": "python",
   "nbconvert_exporter": "python",
   "pygments_lexer": "ipython3",
   "version": "3.10.6"
  },
  "orig_nbformat": 4,
  "vscode": {
   "interpreter": {
    "hash": "d98d24d73b4398bef72eb98130026f81fd25d04b487a508c7f28a0710c7a5116"
   }
  }
 },
 "nbformat": 4,
 "nbformat_minor": 2
}
