{
 "cells": [
  {
   "cell_type": "markdown",
   "metadata": {},
   "source": [
    "<div style=\"display:flex;flex-direction:row;justify-content: space-evenly;\">\n",
    "<img src=\"tec.png\" style=\"width:320px;height:197px;\"/>\n",
    "<img src=\"itcolima.svg\" style=\"width:197px\"/>\n",
    "</div>\n",
    "<div style=\"display:flex;flex-direction:column;gap:20px;text-align:center\"></div>\n",
    "\n",
    "<h1 align=\"center\">Tecnológico Nacional de México\n",
    "campus Colima</h1>\n",
    "<h2 align=\"center\">Maestría en Sistemas\n",
    "Computacionales</h2><br></br>\n",
    "<h3 align=\"center\">Ejercicios sobre el manejo de Hilos en Python</h3>\n",
    "<h3 align=\"center\">Ejercicio Práctico: Manejo de hilos en python</h3><br></br>\n",
    "<h4 align=\"center\">Docente:</h4>\n",
    "<h4 align=\"center\">D. en C. Patricia Figueroa Millan </h4><br></br>\n",
    "<h4 align=\"center\">Autor:</h4>\n",
    "<h4 align=\"center\">Ing. Gilberto Rene Martinez Gutierrez G2146013</h4><br></br>\n",
    "<h4 align=\"center\"></h4>\n",
    "<h4 align=\"center\">Villa de Álvarez, Colima, México</h4>\n",
    "<h4 align=\"center\">18 de octubre de 2022</h4>"
   ]
  },
  {
   "cell_type": "markdown",
   "metadata": {},
   "source": [
    "<h2 align=\"rigth\" >Introducción</h2>\n",
    "\n"
   ]
  },
  {
   "cell_type": "markdown",
   "metadata": {},
   "source": [
    "<h4 align=\"rigth\" >Python incluye herramientas sofisticadas para el manejo de operaciones concurrentes a través de la utilización de procesos e hilos.\n",
    "</h4>\n",
    "<h4 align=\"justify\" >El módulo threading incluye un API de alto nivel orientada a objetos para el trabajo con\n",
    "concurrencia en Python. Los objetos Thread corren concurrentemente dentro del mismo\n",
    "proceso y comparten la memoria. La utilización de hilos es una manera sencilla para\n",
    "escalar tareas que están más vinculadas con operaciones de I/O que de CPU. </h4>"
   ]
  },
  {
   "cell_type": "markdown",
   "metadata": {},
   "source": [
    "<h2 align=\"rigth\" >Ejercicio No. 1 Objetos Thread</h2>"
   ]
  },
  {
   "cell_type": "markdown",
   "metadata": {},
   "source": [
    "\n",
    "<h4 align=\"justify\">La manera más sencilla para utilizar un objeto Thread, es instanciar éste con una función\n",
    "objetivo y llamar el método start() para permitir que éste comience a trabajar. Realice\n",
    "en Python el siguiente script y conteste a las preguntas posteriores a esta sección:</h4>\n",
    "\n"
   ]
  },
  {
   "cell_type": "code",
   "execution_count": 1,
   "metadata": {},
   "outputs": [
    {
     "name": "stdout",
     "output_type": "stream",
     "text": [
      "Trabajador\n",
      "Trabajador\n",
      "Trabajador\n",
      "Trabajador\n",
      "Trabajador\n"
     ]
    }
   ],
   "source": [
    "import threading\n",
    "def trabajador():\n",
    "    print(\"Trabajador\")\n",
    "\n",
    "hilos = []\n",
    "for i in range(5):\n",
    "    h = threading.Thread(target=trabajador)\n",
    "    hilos.append(h)\n",
    "    h.start()"
   ]
  },
  {
   "cell_type": "markdown",
   "metadata": {},
   "source": [
    "\n",
    "<h4 align=\"rigth\">Es útil poder generar un hilo y pasarle argumentos que le indiquen qué hacer; para esto,\n",
    "cualquier tipo de objeto puede ser pasado al hilo. Por ejemplo, el siguiente código pasa un\n",
    "número que luego imprime el hilo.</h4>"
   ]
  },
  {
   "cell_type": "code",
   "execution_count": 2,
   "metadata": {},
   "outputs": [
    {
     "name": "stdout",
     "output_type": "stream",
     "text": [
      "Trabajador: 0 Trabajador: 1 \n",
      "\n",
      "Trabajador: 2 \n",
      "Trabajador: 3 \n",
      "Trabajador: 4 \n"
     ]
    }
   ],
   "source": [
    "import threading\n",
    "def trabajador(num):\n",
    "\n",
    "    print('Trabajador: %s ' % num)\n",
    "\n",
    "hilos = []\n",
    "for i in range(5):\n",
    "    h = threading.Thread(target=trabajador, args=(i,))\n",
    "    hilos.append(h)\n",
    "    h.start()"
   ]
  },
  {
   "cell_type": "markdown",
   "metadata": {},
   "source": [
    "<h2 align=\"rigth\">¿Cuál es la diferencia entre los dos scripts anteriores?</h2>"
   ]
  },
  {
   "cell_type": "markdown",
   "metadata": {},
   "source": [
    "<h4 align=\"rigth\"> En ambos codigos se realizo la ejecucion del metodo trabajador para la creacion de hilos solo que en el segundo se puede observar que ademas de crear el hilo se le pasan argumentos al metodo\n",
    "</h4>\n",
    "\n"
   ]
  },
  {
   "cell_type": "markdown",
   "metadata": {},
   "source": [
    "<h2 align=\"rigth\" >¿Qué pasa si retira la “,” de los argumentos (args) que se pasan al método trabajador\n",
    "cuándo se crea la instancia del hilo, explique por qué y fundamente su respuesta?</h2>"
   ]
  },
  {
   "cell_type": "markdown",
   "metadata": {},
   "source": [
    "<h4 align=\"rigth\"> La coma indica que la variable entera i se pasa como una tupla, al remover la coma se\n",
    "envía un número int y se levanta un error especificando que el argumento para trabajador\n",
    "requiere un iterable. Una tupla es un iterable.\n",
    "</h4>\n",
    "\n"
   ]
  },
  {
   "cell_type": "markdown",
   "metadata": {},
   "source": [
    "<h2 align=\"rigth\" >¿Cuál es la ventaja en crear un hilo pasando como argumento el método que ejecutará la\n",
    "funcionalidad del hilo y crear un hilo a través de la creación de una subclase de la clase\n",
    "Thread que utiliza el método run() para ejecutar la funcionalidad del hilo?</h2>"
   ]
  },
  {
   "cell_type": "markdown",
   "metadata": {},
   "source": [
    "<h4 align=\"rigth\">•\tNo hay especificaciones para poder comparar y determinar ventajas.\n",
    "\n",
    "</h4>\n",
    "<h4 align=\"rigth\">• Se intuye que la ventaja se aplica a los principios de la POO, puesto que cada hilo puede ser\n",
    "almacenado en una lista y manipulado con diferentes métodos en un futuro.\n",
    "</h4>\n"
   ]
  },
  {
   "cell_type": "markdown",
   "metadata": {},
   "source": [
    "<h2 align=\"rigth\" >Ejercicio No. 2 Determinando el hilo actual.\n",
    "</h2>"
   ]
  },
  {
   "cell_type": "markdown",
   "metadata": {},
   "source": [
    "<h4 align=\"rigth\">• Usar argumentos para identificar y nombrar un hilo es innecesario, ya que cada instancia\n",
    "Thread tiene un nombre con un valor por defecto que puede ser cambiado cuando el hilo\n",
    "es creado. Nombrar hilos es útil en procesos servidor en dónde múltiples hilos de servicio\n",
    "manejan diferentes operaciones\n",
    "</h4>"
   ]
  },
  {
   "cell_type": "code",
   "execution_count": 6,
   "metadata": {},
   "outputs": [
    {
     "name": "stdout",
     "output_type": "stream",
     "text": [
      "trabajador Starting\n",
      "Thread-16 Starting\n",
      "mi_servicio Starting \n"
     ]
    },
    {
     "name": "stdout",
     "output_type": "stream",
     "text": [
      "trabajadorThread-16 Exiting\n",
      " Exiting\n",
      "mi_servicio Exiting\n"
     ]
    }
   ],
   "source": [
    "import threading\n",
    "import time\n",
    "def trabajador():\n",
    "    print(threading.current_thread().getName(), 'Starting')\n",
    "    time.sleep(0.2)\n",
    "    print(threading.current_thread().getName(), 'Exiting')\n",
    "\n",
    "def mi_servicio():\n",
    "    print(threading.current_thread().getName(), 'Starting ')\n",
    "    time.sleep(0.3)\n",
    "    print(threading.current_thread().getName(), 'Exiting')\n",
    "\n",
    "s = threading.Thread(name='mi_servicio', target=mi_servicio)\n",
    "h = threading.Thread(name='trabajador', target=trabajador)\n",
    "h2 = threading.Thread(target=trabajador)\n",
    "\n",
    "h.start()\n",
    "h2.start()\n",
    "s.start()\n",
    "\n",
    "\n"
   ]
  },
  {
   "cell_type": "markdown",
   "metadata": {},
   "source": [
    "<h2 align=\"rigth\" >Cuál es el resultado del script anterior? y ¿Por qué aun cuando se declaró el nombre del\n",
    "hilo 2 aparece Thread-1?. Fundamente su respuesta.\n",
    "\n",
    "</h2>"
   ]
  },
  {
   "cell_type": "markdown",
   "metadata": {},
   "source": [
    "<h4 align=\"rigth\">Cada hilo imprime su nombre cuando comienza y cuando termina. La secuencia aparece\n",
    "como:\n",
    "</h4>\n",
    "\n",
    "\n",
    "<h4 align=\"rigth\">• Trabajador Starting.</h4>\n",
    "\n",
    "<h4 align=\"rigth\">• Thread 1 Starting.</h4>\n",
    "\n",
    "<h4 align=\"rigth\">• Mi_servicio Starting.</h4>\n",
    "\n",
    "<h4 align=\"rigth\">• trabajadorThread-1 trabajadorThread-1  Exiting .</h4>\n",
    "<h4 align=\"rigth\">• Exiting mi_servicio Exiting .</h4>\n",
    "<h4 align=\"rigth\">Los hilos trabajadores son los primeros en cerrar puesto que tienen un time.sleep menor\n",
    "que el de mi_servicio. El orden entre estos puede diferir ligeramente.\n",
    "No se declaró nombre en h2, por eso se asigna “Thread-1 (trabajador)” siguiendo el\n",
    "formato “Thread-# (method_name)”. Los hilos que se nombraron sí respetaron el\n",
    "respectivo nombre.</h4>\n",
    "\n",
    "\n"
   ]
  },
  {
   "cell_type": "markdown",
   "metadata": {},
   "source": [
    "\n",
    "<h4 align=\"justify\" >Muchos programas no usan el print para depuración; por lo cual, el módulo logging\n",
    "soporta incluir el nombre del hilo en cada mensaje log usando el %(threadName)s\n",
    "formateador de código. Incluir el nombre de los hilos en los mensajes log hace posible\n",
    "rastrear hacia atrás el origen de los mensajes.</h4>"
   ]
  },
  {
   "cell_type": "code",
   "execution_count": 7,
   "metadata": {},
   "outputs": [
    {
     "name": "stderr",
     "output_type": "stream",
     "text": [
      "[DEBUG] (trabajador) Starting\n",
      "[DEBUG] (Thread-17 ) Starting\n",
      "[DEBUG] (mi_servicio) Starting\n"
     ]
    },
    {
     "name": "stderr",
     "output_type": "stream",
     "text": [
      "[DEBUG] (Thread-17 ) Exiting\n",
      "[DEBUG] (trabajador) Exiting\n",
      "[DEBUG] (mi_servicio) Exiting\n"
     ]
    }
   ],
   "source": [
    "import threading\n",
    "import time\n",
    "import logging\n",
    "\n",
    "def trabajador():\n",
    "    logging.debug(\"Starting\")\n",
    "    time.sleep(0.2)\n",
    "    logging.debug(\"Exiting\")\n",
    "\n",
    "def mi_servicio():\n",
    "    logging.debug(\"Starting\")\n",
    "    time.sleep(0.3)\n",
    "    logging.debug(\"Exiting\")\n",
    "\n",
    "\n",
    "logging.basicConfig(\n",
    "    level=logging.DEBUG,\n",
    "    format='[%(levelname)s] (%(threadName)-10s) %(message)s',\n",
    ")\n",
    "\n",
    "s = threading.Thread(name='mi_servicio', target=mi_servicio)\n",
    "h = threading.Thread(name='trabajador', target=trabajador)\n",
    "h2 = threading.Thread(target=trabajador)\n",
    "\n",
    "h.start()\n",
    "h2.start()\n",
    "s.start()\n"
   ]
  },
  {
   "cell_type": "markdown",
   "metadata": {},
   "source": [
    "\n",
    "<h2 align=\"justify\" >¿Cómo funciona el formateador definido en logging.basicConfig?.\n",
    "</h2>\n",
    "<h2 align=\"justify\">Nota: puede recurrir a la siguiente liga para explicar la respuesta a esta pregunta\n",
    "https://docs.python.org/2.4/lib/node357.html </h2>"
   ]
  },
  {
   "cell_type": "markdown",
   "metadata": {},
   "source": [
    "<h4 align=\"justify\" >Se establece una cadena en donde logging al identificar formatos específicos insertará la\n",
    "información tales como la fecha, el nombre del hilo y el mensaje en caso de ser enviado\n",
    "como argumento.\n",
    "</h4>"
   ]
  },
  {
   "cell_type": "markdown",
   "metadata": {},
   "source": [
    "<h2 align=\"rigth\" >Ejercicio No. 3 Hilos tipo demonio\n",
    "\n",
    "\n",
    "</h2>"
   ]
  },
  {
   "cell_type": "markdown",
   "metadata": {},
   "source": [
    "<h4 align=\"justify\" >Hasta ahora todos los programas han implícitamente esperado a terminar hasta que todos\n",
    "los hilos han completado su trabajo. Algunas veces, sin embargo, los programas generan\n",
    "un hilo como un demonio que corre sin bloquear el programa principal de su salida. Los\n",
    "hilos tipo demonio, son útiles para servicios puede que no haya una manera fácil de\n",
    "interrumpir el hilo, o donde dejar que el hilo muera en medio de su trabajo no conduce a la\n",
    "pérdida o corrupción de datos. Para marcar el hilo como un demonio, se debe pasar el\n",
    "parámetro daemon = True cuando se construye o llamar su método set_daemon() con\n",
    "True.\n",
    "\n",
    "</h4>"
   ]
  },
  {
   "cell_type": "code",
   "execution_count": 8,
   "metadata": {},
   "outputs": [
    {
     "name": "stderr",
     "output_type": "stream",
     "text": [
      "[DEBUG] (daemon    ) Starting\n",
      "[DEBUG] (non-daemon) Starting\n",
      "[DEBUG] (non-daemon) Exiting\n"
     ]
    },
    {
     "name": "stderr",
     "output_type": "stream",
     "text": [
      "[DEBUG] (daemon    ) Exiting\n"
     ]
    }
   ],
   "source": [
    "import threading\n",
    "import time\n",
    "import logging\n",
    "def demonio():\n",
    "    logging.debug('Starting')\n",
    "    time.sleep(0.2)\n",
    "    logging.debug('Exiting')\n",
    "def no_demonio():\n",
    "    logging.debug('Starting')\n",
    "    logging.debug('Exiting')\n",
    "\n",
    "logging.basicConfig(\n",
    "    level=logging.DEBUG,\n",
    "    format='(%(threadName)-10s) %(message)s',\n",
    ")\n",
    "\n",
    "d = threading.Thread(name='daemon', target=demonio, daemon=True)\n",
    "h = threading.Thread(name='non-daemon', target=no_demonio)\n",
    "d.start()\n",
    "h.start()    "
   ]
  },
  {
   "cell_type": "markdown",
   "metadata": {},
   "source": [
    "<h2 align=\"rigth\" >¿Por qué la salida del script anterior no incluye el mensaje “Exiting” del hilo demonio?\n",
    "\n",
    "\n",
    "</h2>"
   ]
  },
  {
   "cell_type": "markdown",
   "metadata": {},
   "source": [
    "<h4 align=\"justify\" >El hilo al ser marcado como daemon es finalizado cuando el hilo principal u otros hilos no\n",
    "daemons finalizan.\n",
    "\n",
    "</h4>\n",
    "\n",
    "<h4 align=\"justify\" >Modifique el script anterior para utilizar el método join().\n",
    "\n",
    "</h4>"
   ]
  },
  {
   "cell_type": "code",
   "execution_count": 10,
   "metadata": {},
   "outputs": [
    {
     "name": "stderr",
     "output_type": "stream",
     "text": [
      "[DEBUG] (daemon    ) Starting\n",
      "[DEBUG] (non-daemon) Starting\n",
      "[DEBUG] (non-daemon) Exiting\n",
      "[DEBUG] (daemon    ) Exiting\n"
     ]
    }
   ],
   "source": [
    "import threading\n",
    "import time\n",
    "import logging\n",
    "\n",
    "def demonio():\n",
    "    logging.debug('Starting')\n",
    "    time.sleep(0.2)\n",
    "    logging.debug('Exiting')\n",
    "\n",
    "def no_demonio():\n",
    "    logging.debug('Starting')\n",
    "    logging.debug('Exiting')\n",
    "\n",
    "logging.basicConfig(\n",
    "    level=logging.DEBUG,\n",
    "    format='(%(threadName)-10s) %(message)s',\n",
    ")\n",
    "\n",
    "d = threading.Thread(name='daemon', target=demonio, daemon=True)\n",
    "h = threading.Thread(name='non-daemon', target=no_demonio)\n",
    "\n",
    "d.start()\n",
    "h.start()\n",
    "\n",
    "d.join()\n",
    "h.join()\n"
   ]
  },
  {
   "cell_type": "markdown",
   "metadata": {},
   "source": [
    "<h2 align=\"rigth\" >¿Qué diferencia hay en la salida del script anterior?. Fundamente su respuesta.</h2>"
   ]
  },
  {
   "cell_type": "markdown",
   "metadata": {},
   "source": [
    "<h4 align=\"justify\" >El hilo daemon ahora sí imprime exiting puesto que ahora se utiliza el método join, lo que\n",
    "hace este método es bloquear el hilo principal hasta que el hilo correspondiente haya\n",
    "finalizado \n",
    "\n",
    "</h4>\n",
    "\n",
    "<h4 align=\"justify\" >Alternativamente, un valor flotante puede ser pasado para representar el número de\n",
    "segundos para esperar a que el hilo se convierta en inactivo\n",
    "</h4>"
   ]
  },
  {
   "cell_type": "code",
   "execution_count": 11,
   "metadata": {},
   "outputs": [
    {
     "name": "stderr",
     "output_type": "stream",
     "text": [
      "[DEBUG] (daemon    ) Starting\n",
      "[DEBUG] (non-daemon) Starting\n",
      "[DEBUG] (non-daemon) Exiting\n"
     ]
    },
    {
     "name": "stdout",
     "output_type": "stream",
     "text": [
      "d.isAlive() True\n"
     ]
    },
    {
     "name": "stderr",
     "output_type": "stream",
     "text": [
      "[DEBUG] (daemon    ) Exiting\n"
     ]
    }
   ],
   "source": [
    "import threading\n",
    "import time\n",
    "import logging\n",
    "\n",
    "def demonio():\n",
    "    logging.debug('Starting')\n",
    "    time.sleep(0.2)\n",
    "    logging.debug('Exiting')\n",
    "\n",
    "def no_demonio():\n",
    "    logging.debug('Starting')\n",
    "    logging.debug('Exiting')\n",
    "\n",
    "logging.basicConfig(\n",
    "    level=logging.DEBUG,\n",
    "    format='(%(threadName)-10s) %(message)s',\n",
    ")\n",
    "\n",
    "d = threading.Thread(name='daemon', target=demonio, daemon=True)\n",
    "h = threading.Thread(name='non-daemon', target=no_demonio)\n",
    "d.start()\n",
    "h.start()\n",
    "d.join(0.1)\n",
    "print('d.isAlive()', d.is_alive())\n",
    "h.join()\n"
   ]
  },
  {
   "cell_type": "markdown",
   "metadata": {},
   "source": [
    "<h2 align=\"rigth\" >¿Cuál es el resultado del proceso anterior?, ¿Qué sucedió y por qué?.</h2>"
   ]
  },
  {
   "cell_type": "markdown",
   "metadata": {},
   "source": [
    "\n",
    "<h4 align=\"justify\" >Al colocar un valor flotante como argumento del método join, se establece un timeout o\n",
    "tiempo límite de ejecución, si el hilo no finaliza en el tiempo asignado el hilo principal\n",
    "seguirá su ejecución. Por eso muestra que el hilo demonio sigue vivo justo antes de\n",
    "finalizar el hilo principal.\n",
    "</h4>"
   ]
  },
  {
   "cell_type": "markdown",
   "metadata": {},
   "source": [
    "<h2 align=\"rigth\" >Ejercicio No. 4 Enumeración de hilos.</h2>\n",
    "\n",
    "\n",
    "<h4 align=\"justify\" >No es necesario mantener un manejador explicito para todos los hilos de tipo demonio\n",
    "para asegurar que han terminado después de que el proceso principal sale; para esto, el\n",
    "método enumerate() regresa un lista de instancias activas de Thread\n",
    "</h4>"
   ]
  },
  {
   "cell_type": "code",
   "execution_count": 12,
   "metadata": {},
   "outputs": [
    {
     "name": "stderr",
     "output_type": "stream",
     "text": [
      "[DEBUG] (Thread-18 ) sleeping 0.40\n",
      "[DEBUG] (Thread-19 ) sleeping 0.40\n",
      "[DEBUG] (Thread-20 ) sleeping 0.40\n",
      "[DEBUG] (MainThread) joining IOPub\n",
      "[DEBUG] (Thread-18 ) ending\n",
      "[DEBUG] (Thread-20 ) ending\n",
      "[DEBUG] (Thread-19 ) ending\n"
     ]
    }
   ],
   "source": [
    "import logging\n",
    "import threading\n",
    "import random\n",
    "\n",
    "def trabajador():\n",
    "    \"\"\"funcion del trabajador\"\"\"\n",
    "    \n",
    "    pausa = random.randint(1, 5) / 10\n",
    "    logging.debug('sleeping %0.2f', pausa)\n",
    "    time.sleep(pausa)\n",
    "    logging.debug('ending')\n",
    "\n",
    "logging.basicConfig(\n",
    "    level=logging.DEBUG,\n",
    "    format='(%(threadName)-10s) %(message)s',\n",
    ")\n",
    "\n",
    "for i in range(3):\n",
    "    h = threading.Thread(target=trabajador, daemon=True)\n",
    "    h.start()\n",
    "\n",
    "\n",
    "hilo_principal = threading.main_thread()\n",
    "for h in threading.enumerate():\n",
    "    if h is hilo_principal:\n",
    "        continue\n",
    "\n",
    "    logging.debug('joining %s', h.getName())\n",
    "    h.join()\n",
    "\n"
   ]
  },
  {
   "cell_type": "markdown",
   "metadata": {},
   "source": [
    "<h2 align=\"rigth\" >¿Explique brevemente el funcionamiento del script anterior? y ¿por qué se introduce un\n",
    "continue al comprobar sí es el hilo principal?\n",
    "</h2>\n",
    "\n",
    "\n",
    "<h4 align=\"justify\" >Se generan 3 hilos del método trabajador en donde se loguea información de debug\n",
    "además de esperar por un tiempo aleatorio. Posteriormente se utiliza el método\n",
    "threading.enumerate(), el cual retorna un objeto iterable que contiene cada hilo, incluyendo\n",
    "el principal, después ejecuta el método join para esperar a que cada uno termine. La\n",
    "razón por la que se comprueba si el hilo iterado es el hilo principal es porque no se puede\n",
    "unir el hilo principal a sí mismo, por ende el continue se salta la instrucción h.join().\n",
    "</h4>"
   ]
  },
  {
   "cell_type": "markdown",
   "metadata": {},
   "source": [
    "<h2 align=\"rigth\" >Ejercicio No. 5 Señalización entre eventos.\n",
    "\n",
    "</h2>\n",
    "\n",
    "\n",
    "<h4 align=\"justify\" >Aun cuando el punto de utilizar múltiples hilos es correr operaciones separadas\n",
    "concurrentemente, algunas veces es importante ser capaz de sincronizar las operaciones\n",
    "en uno o más hilos. Los objetos Event son una manera sencilla de comunicarse de\n",
    "manera segura entre procesos. Un Event maneja una señal interna que los llamantes\n",
    "pueden controlar con los métodos set() y clear(). Otros hilos pueden utilizar wait()\n",
    "para pausar hasta que la bandera es fijada, bloqueando efectivamente el progreso hasta\n",
    "que a aquellos hilos se les permite continuar.\n",
    "\n",
    "</h4>"
   ]
  },
  {
   "cell_type": "code",
   "execution_count": 1,
   "metadata": {},
   "outputs": [
    {
     "name": "stderr",
     "output_type": "stream",
     "text": [
      "(block     ) espera_por_evento iniciando\n",
      "(nonblock  ) espera_por_evento_timeout iniciando\n",
      "(MainThread) Eperando antes de llamar el Event.set()\n",
      "(MainThread) El evento es establecido\n",
      "(nonblock  ) estableciendo evento: True\n",
      "(block     ) estableciendo evento: True\n",
      "(nonblock  ) procesando evento\n"
     ]
    }
   ],
   "source": [
    "import logging\n",
    "import threading\n",
    "import time\n",
    "\n",
    "def espera_por_evento(e):\n",
    "    \"\"\"Wait for the event to be set before doing anything\"\"\"\n",
    "    logging.debug('espera_por_evento iniciando')\n",
    "    estableciendo_evento = e.wait()\n",
    "    logging.debug('estableciendo evento: %s', estableciendo_evento)\n",
    "\n",
    "def espera_por_evento_timeout(e, t):\n",
    "    \"\"\"Wait t seconds and then timeout\"\"\"\n",
    "    while not e.is_set():\n",
    "        logging.debug('espera_por_evento_timeout iniciando')\n",
    "        estableciendo_evento = e.wait(t)\n",
    "        logging.debug('estableciendo evento: %s', estableciendo_evento)\n",
    "        if estableciendo_evento:\n",
    "            logging.debug('procesando evento')\n",
    "        else:\n",
    "            logging.debug('haciendo otro trabajo')\n",
    "\n",
    "logging.basicConfig(\n",
    "    level=logging.DEBUG,\n",
    "    format='(%(threadName)-10s) %(message)s',\n",
    ")\n",
    "e = threading.Event()\n",
    "t1 = threading.Thread(name='block',target=espera_por_evento,args=(e,),)\n",
    "t1.start()\n",
    "\n",
    "t2 = threading.Thread(name='nonblock',target=espera_por_evento_timeout,args=(e,2),)\n",
    "t2.start()\n",
    "logging.debug('Eperando antes de llamar el Event.set()')\n",
    "time.sleep(0.3)\n",
    "e.set()\n",
    "logging.debug('El evento es establecido')"
   ]
  },
  {
   "cell_type": "markdown",
   "metadata": {},
   "source": [
    "<h2 align=\"rigth\" >¿Cuál es el funcionamiento del método wait() en el script anterior? ¿Cuál es el resultado\n",
    "del script?, ¿Cuál es la diferencia entre espera_por_evento_timeout() y espera_por_evento?\n",
    "\n",
    "</h2>\n",
    "\n",
    "\n",
    "<h4 align=\"justify\" >El método wait(), como su nombre indica, espera hasta que el evento (threading.Event) se\n",
    "configure con el método set(). El método wait() sin argumentos esperará hasta que se\n",
    "configure el evento mientras que el método wait(timeout) se espera y si el tiempo de\n",
    "espera se excede este regresa un valor False por lo que el hilo puede tomar decisiones. El\n",
    "método espera_por_evento_timeout recibe el evento y un tiempo de espera, utiliza el\n",
    "método wait con el timeout, si el tiempo se excede imprime “haciendo otro trabajo”\n",
    "mientras que si el evento se configura a tiempo se imprime “procesando evento”, a\n",
    "diferencia de espera_por_evento que no tiene configurado un tiempo de espera por lo que\n",
    "esperará de forma indefinida hasta que el evento sea configurado.\n",
    "\n",
    "</h4>"
   ]
  },
  {
   "cell_type": "markdown",
   "metadata": {},
   "source": [
    "<h2 align=\"rigth\" >Ejercicio No. Control de Acceso a Recursos.\n",
    "\n",
    "\n",
    "</h2>\n",
    "\n",
    "\n",
    "<h4 align=\"justify\" >En adición a los eventos otra manera de sincronizar hilos es a través del uso de\n",
    "condiciones a través de un objeto Condition. Debido a que el objeto Condition usa un\n",
    "Lock, este puede ser ligado a un recurso compartido, permitiendo que múltiples hilos\n",
    "esperen por el recurso a ser actualizado. En el siguiente ejemplo el hilo consumidor()\n",
    "espera que se establezca la condición antes de continuar. El hilo productor() es\n",
    "responsable de establecer la condición y notificar a los otros hilos que ellos pueden\n",
    "continuar.\n",
    "\n",
    "</h4>"
   ]
  },
  {
   "cell_type": "code",
   "execution_count": 2,
   "metadata": {},
   "outputs": [
    {
     "name": "stderr",
     "output_type": "stream",
     "text": [
      "(c1        ) Iniciando hilo consumidor\n",
      "(c2        ) Iniciando hilo consumidor\n",
      "(p         ) Iniciando hilo productor\n",
      "(p         ) Haciendo el recurso disponible\n",
      "(c1        ) Recurso disponible para el consumidor\n",
      "(c2        ) Recurso disponible para el consumidor\n"
     ]
    }
   ],
   "source": [
    "import logging\n",
    "import threading\n",
    "import time\n",
    "def consumidor(cond):\n",
    "    \"\"\"espera por la condición y utilizar el recurso\"\"\"\n",
    "    logging.debug('Iniciando hilo consumidor')\n",
    "    with cond:\n",
    "        cond.wait()\n",
    "        logging.debug('Recurso disponible para el consumidor')\n",
    "\n",
    "\n",
    "def productor(cond):\n",
    "    \"\"\"coloca el recurso a ser utilizado por el consumidor\"\"\"\n",
    "    logging.debug('Iniciando hilo productor')\n",
    "    with cond:\n",
    "        logging.debug('Haciendo el recurso disponible')\n",
    "        cond.notifyAll()\n",
    "        \n",
    "logging.basicConfig(\n",
    "    level=logging.DEBUG,\n",
    "    format='%(asctime)s (%(threadName)-2s) %(message)s',\n",
    ")\n",
    "\n",
    "condicion = threading.Condition()\n",
    "c1 = threading.Thread(name='c1', target=consumidor,args=(condicion,))\n",
    "c2 = threading.Thread(name='c2', target=consumidor,args=(condicion,))\n",
    "p = threading.Thread(name='p', target=productor,args=(condicion,))\n",
    "\n",
    "\n",
    "c1.start()\n",
    "time.sleep(0.2)\n",
    "c2.start()\n",
    "time.sleep(0.2)\n",
    "p.start()\n"
   ]
  },
  {
   "cell_type": "markdown",
   "metadata": {},
   "source": [
    "<h2 align=\"rigth\" >¿Cuál es el resultado del script anterior? ¿Explique el funcionamiento del with ya que este\n",
    "adquiere el Lock asociado al Condition?. Fundamente su respuesta.\n",
    "\n",
    "\n",
    "\n",
    "</h2>\n",
    "\n",
    "\n",
    "<h4 align=\"justify\" >El resultado es la creación de dos hilos consumidores con 200ms de diferencia entre sí,\n",
    "sin embargo estos quedan en la espera de que cond sea liberado al ser un objeto\n",
    "condition, cuando el hilo productor libera el recurso cada hilo continúa con la ejecución, en\n",
    "su caso imprimir un log. El funcionamiento del with es el de esperar a que el Lock\n",
    "asociado sea liberado], los Locks quedan a la espera de su liberación al ser utilizados con la sentencia with\n",
    "\n",
    "</h4>\n",
    "\n",
    "<h4 align=\"justify\" >En adición a la sincronización de operaciones de los hilos, es importante ser capaz de\n",
    "controlar el acceso a recursos compartidos para prevenir la corrupción o pérdida de los\n",
    "datos. Los tipos de datos de Python como listas, diccionarios son atómicos por lo cual un\n",
    "solo hilo a la vez puede acceder a ellos. Otros tipos de datos simples implementados en\n",
    "Python como enteros o flotantes no tiene esta protección. Para proteger el acceso\n",
    "simultáneo a un objeto se utiliza el objeto Lock , con la finalidad de lograr la exclusión\n",
    "mutua.\n",
    "\n",
    "</h4>\n",
    "\n",
    "\n",
    "\n"
   ]
  },
  {
   "cell_type": "code",
   "execution_count": 1,
   "metadata": {},
   "outputs": [
    {
     "name": "stderr",
     "output_type": "stream",
     "text": [
      "(Thread-3  ) Durmiendo 0.24\n",
      "(Thread-4  ) Durmiendo 0.29\n",
      "(MainThread) Esperando por hilos trabajador \n",
      "(Thread-3  ) Esperando por lock\n",
      "(Thread-3  ) Lock adquirido\n",
      "(Thread-3  ) Lock liberado\n",
      "(Thread-3  ) Durmiendo 0.87\n",
      "(Thread-4  ) Esperando por lock\n",
      "(Thread-4  ) Lock adquirido\n",
      "(Thread-4  ) Lock liberado\n",
      "(Thread-4  ) Durmiendo 0.75\n",
      "(Thread-4  ) Esperando por lock\n",
      "(Thread-4  ) Lock adquirido\n",
      "(Thread-4  ) Lock liberado\n",
      "(Thread-4  ) Done\n",
      "(Thread-3  ) Esperando por lock\n",
      "(Thread-3  ) Lock adquirido\n",
      "(Thread-3  ) Lock liberado\n",
      "(Thread-3  ) Done\n"
     ]
    }
   ],
   "source": [
    "import logging\n",
    "import random\n",
    "import threading\n",
    "import time\n",
    "\n",
    "class Contador:\n",
    "    def __init__(self, start=0):\n",
    "        self.lock = threading.Lock()\n",
    "        self.valor = start\n",
    "\n",
    "    def incrementar(self):\n",
    "        logging.debug('Esperando por lock')\n",
    "        self.lock.acquire()\n",
    "        try:\n",
    "            logging.debug('Lock adquirido')\n",
    "            self.valor = self.valor + 1\n",
    "        finally:\n",
    "            logging.debug('Lock liberado')\n",
    "            self.lock.release()\n",
    "\n",
    "\n",
    "def trabajador(c):\n",
    "    for i in range(2):\n",
    "        pausa = random.random()\n",
    "        logging.debug('Durmiendo %0.02f', pausa)\n",
    "        time.sleep(pausa)\n",
    "        c.incrementar()\n",
    "    logging.debug('Done')\n",
    "\n",
    "\n",
    "logging.basicConfig(\n",
    "    level=logging.DEBUG,\n",
    "    format='(%(threadName)-10s) %(message)s',\n",
    ")\n",
    "\n",
    "\n",
    "contador = Contador()\n",
    "for i in range(2):\n",
    "    t = threading.Thread(target=trabajador, args=(contador,))\n",
    "    t.start()\n",
    "\n",
    "logging.debug('Esperando por hilos trabajador ')\n",
    "main_thread = threading.main_thread()\n",
    "\n",
    "\n",
    "for t in threading.enumerate():\n",
    "    if t is not main_thread:\n",
    "        t.join()\n",
    "logging.debug('Contador: %d', contador.valor)"
   ]
  },
  {
   "cell_type": "markdown",
   "metadata": {},
   "source": [
    "<h2 align=\"rigth\" >¿Cómo funciona el script anterior?, ¿Qué realiza el hilo trabajador? y ¿Qué función realiza\n",
    "la clase Counter?.\n",
    "</h2>\n",
    "\n",
    "\n",
    "<h4 align=\"justify\" >Se generan 2 hilos trabajadores, en donde cada uno espera un tiempo aleatorio e\n",
    "incrementa el contador de un objeto, al final se espera a la ejecución de todos los hilos\n",
    "para imprimir el valor del contador. Este objeto contador utiliza el objeto theading.Lock()\n",
    "para controlar el acceso al recurso, en este caso utilizando los métodos lock.acquire() y\n",
    "lock.release() para bloquear y liberar respectivamente .\n",
    "\n",
    "</h4>\n",
    "\n",
    "<h4 align=\"justify\" >Enlace a los codigos  https://github.com/Gilberto-profesional/ProgramingPOO \n",
    "\n",
    "</h4>"
   ]
  },
  {
   "cell_type": "markdown",
   "metadata": {},
   "source": [
    "Referencias:\n",
    "<h4 align=\"justify\" >[1] multithreading - Python threading error - must be an iterable, not int - Stack Overflow\n",
    "accedido 17/10/2022 \n",
    "\n",
    "</h4>\n",
    "<h4 align=\"justify\" >[2] Python Daemon Threads - GeeksforGeeks accedido 17/10/2022\n",
    "\n",
    "</h4>\n",
    "<h4 align=\"justify\" >[3] How to Join a Thread in Python (superfastpython.com) accedido 17/10/2022\n",
    "\n",
    "</h4>\n",
    "<h4 align=\"justify\" >[4] How to Join a Thread in Python (superfastpython.com) accedido 17/10/2022\n",
    "\n",
    "</h4>\n",
    "<h4 align=\"justify\" >[5] Built-in Functions — Python 3.10.8 documentation accedido 17/10/2022\n",
    "\n",
    "</h4>\n",
    "<h4 align=\"justify\" >[6] Threading Event Object In Python (superfastpython.com) accedido 17/10/2022\n",
    "\n",
    "</h4>\n",
    "<h4 align=\"justify\" >\n",
    "[7] threading — Thread-based parallelism — Python 3.10.8 documentation accedido\n",
    "17/10/2022\n",
    "\n",
    "</h4>\n",
    "<h4 align=\"justify\" >\n",
    "\n",
    "[8] with statement in Python - GeeksforGeeks accedido 17/10/2022\n",
    "\n",
    "</h4>\n",
    "<h4 align=\"justify\" >\n",
    "[9] threading — Thread-based parallelism — Python 3.10.8 documentation accedido\n",
    "17/10/2022\n",
    "\n",
    "</h4>\n",
    "\n",
    "\n",
    "\n"
   ]
  },
  {
   "cell_type": "code",
   "execution_count": 25,
   "metadata": {},
   "outputs": [
    {
     "name": "stdout",
     "output_type": "stream",
     "text": [
      "iteration 0. expected x = 2000000, got 2000000\n",
      "iteration 1. expected x = 2000000, got 2000000\n",
      "iteration 2. expected x = 2000000, got 2000000\n",
      "iteration 3. expected x = 2000000, got 2000000\n",
      "iteration 4. expected x = 2000000, got 2000000\n"
     ]
    }
   ],
   "source": [
    "import threading\n",
    "Lock=threading.Lock()\n",
    "ITERS = 1000000\n",
    "x = [0]\n",
    "\n",
    "def worker():\n",
    "    for _ in range(ITERS):\n",
    "        Lock.acquire()\n",
    "        x[0] += 1\n",
    "        Lock.release()\n",
    "\n",
    "\n",
    "        #with Lock:\n",
    "        #    x[0] += 1\n",
    "def main():\n",
    "    x[0] = 0  # you may use `global x` instead of this list trick too\n",
    "    t1 = threading.Thread(target=worker)\n",
    "    t2 = threading.Thread(target=worker)\n",
    "  \n",
    "    t1.start()\n",
    "    t2.start()\n",
    "    t1.join()\n",
    "    t2.join()\n",
    "\n",
    "for i in range(5):\n",
    "    main()\n",
    "    print(f'iteration {i}. expected x = {ITERS*2}, got {x[0]}')"
   ]
  }
 ],
 "metadata": {
  "kernelspec": {
   "display_name": "Python 3.9.10 64-bit",
   "language": "python",
   "name": "python3"
  },
  "language_info": {
   "codemirror_mode": {
    "name": "ipython",
    "version": 3
   },
   "file_extension": ".py",
   "mimetype": "text/x-python",
   "name": "python",
   "nbconvert_exporter": "python",
   "pygments_lexer": "ipython3",
   "version": "3.9.10"
  },
  "orig_nbformat": 4,
  "vscode": {
   "interpreter": {
    "hash": "aee5161b8d3706f136b414f83d25d87cb7ee38bd6b696120dcc0cd5f5b73368c"
   }
  }
 },
 "nbformat": 4,
 "nbformat_minor": 2
}
